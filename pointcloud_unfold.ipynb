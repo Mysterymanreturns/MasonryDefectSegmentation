{
 "cells": [
  {
   "cell_type": "code",
   "execution_count": null,
   "id": "e24bd13a-7562-44b5-914d-97f49e36e208",
   "metadata": {},
   "outputs": [],
   "source": []
  },
  {
   "cell_type": "code",
   "execution_count": 1,
   "id": "5646703c-a938-447c-aa34-1f9a483c989a",
   "metadata": {},
   "outputs": [],
   "source": [
    "import os\n",
    "\n",
    "os.chdir(\"../data/imtest/\")"
   ]
  },
  {
   "cell_type": "code",
   "execution_count": 2,
   "id": "a73dbf4c-e131-4546-9fef-825e3f037a03",
   "metadata": {},
   "outputs": [
    {
     "name": "stdout",
     "output_type": "stream",
     "text": [
      "Jupyter environment detected. Enabling Open3D WebVisualizer.\n",
      "[Open3D INFO] WebRTC GUI backend enabled.\n",
      "[Open3D INFO] WebRTCWindowSystem: HTTP handshake server disabled.\n"
     ]
    }
   ],
   "source": [
    "import numpy as np\n",
    "#import laspy as lp\n",
    "import open3d as o3d\n",
    "#import pye57\n",
    "import math\n",
    "import matplotlib.pyplot as plt\n",
    "from scipy.optimize import curve_fit\n",
    "from skimage import morphology\n",
    "from PIL import Image, ImageOps\n",
    "from scipy import spatial\n",
    "import laspy"
   ]
  },
  {
   "cell_type": "code",
   "execution_count": 3,
   "id": "975af57c-8d24-4d42-9e5d-98537abd5f93",
   "metadata": {},
   "outputs": [
    {
     "name": "stdout",
     "output_type": "stream",
     "text": [
      "[0]\n"
     ]
    }
   ],
   "source": [
    "import laspy\n",
    "\n",
    "las = laspy.read('traincloudtest.las')\n",
    "print(np.unique(las.classification))"
   ]
  },
  {
   "cell_type": "code",
   "execution_count": 4,
   "id": "f8a2880d-cbf7-4bca-bf58-f769dba33122",
   "metadata": {},
   "outputs": [
    {
     "name": "stdout",
     "output_type": "stream",
     "text": [
      "X\n",
      "Y\n",
      "Z\n",
      "intensity\n",
      "return_number\n",
      "number_of_returns\n",
      "scan_direction_flag\n",
      "edge_of_flight_line\n",
      "classification\n",
      "synthetic\n",
      "key_point\n",
      "withheld\n",
      "scan_angle_rank\n",
      "user_data\n",
      "point_source_id\n",
      "red\n",
      "green\n",
      "blue\n"
     ]
    }
   ],
   "source": [
    "for dimension in las.point_format.dimensions:\n",
    "    print(dimension.name)"
   ]
  },
  {
   "cell_type": "code",
   "execution_count": 5,
   "id": "83b619dd-4b6d-4974-8661-4c41c1d4a2e1",
   "metadata": {},
   "outputs": [],
   "source": [
    "pcd = o3d.geometry.PointCloud()"
   ]
  },
  {
   "cell_type": "code",
   "execution_count": 6,
   "id": "009b7a47-b6a1-4aee-a943-f56bc1137b56",
   "metadata": {},
   "outputs": [],
   "source": [
    "points = np.vstack((las.x, las.y, las.z)).transpose()\n",
    "pcd.points = o3d.utility.Vector3dVector(points)"
   ]
  },
  {
   "cell_type": "code",
   "execution_count": null,
   "id": "ca509a51-f74a-47cb-a7b8-2fa63e099c11",
   "metadata": {},
   "outputs": [],
   "source": []
  },
  {
   "cell_type": "code",
   "execution_count": 7,
   "id": "1fafac6d-80c2-400d-80a1-c63e7a0abcde",
   "metadata": {},
   "outputs": [],
   "source": [
    "#pcd = o3d.io.read_point_cloud(\"OneDrive_1_09-03-2022/subsamples/SGE01.pcd\")\n",
    "\n",
    "\n",
    "\n"
   ]
  },
  {
   "cell_type": "code",
   "execution_count": 8,
   "id": "b8389c08-5638-41bb-9d63-b00a5c722175",
   "metadata": {},
   "outputs": [],
   "source": [
    "o3d.visualization.draw_geometries([pcd])"
   ]
  },
  {
   "cell_type": "code",
   "execution_count": null,
   "id": "d45edd27-e773-4697-a12e-a2207024a6e7",
   "metadata": {},
   "outputs": [],
   "source": []
  },
  {
   "cell_type": "code",
   "execution_count": 9,
   "id": "fec6ac52-6b63-49c1-89f1-b9a9502475ad",
   "metadata": {},
   "outputs": [
    {
     "data": {
      "text/plain": [
       "PointCloud with 1112805 points."
      ]
     },
     "execution_count": 9,
     "metadata": {},
     "output_type": "execute_result"
    }
   ],
   "source": [
    "pcd"
   ]
  },
  {
   "cell_type": "code",
   "execution_count": null,
   "id": "f3f9064b-1c43-4328-a20f-18935c379cb7",
   "metadata": {},
   "outputs": [],
   "source": []
  },
  {
   "cell_type": "code",
   "execution_count": null,
   "id": "76c44948-b73a-4891-be99-f466b42bdad4",
   "metadata": {},
   "outputs": [],
   "source": []
  },
  {
   "cell_type": "code",
   "execution_count": 10,
   "id": "1ea5330b-9458-43ac-990c-75b3c592ea00",
   "metadata": {},
   "outputs": [],
   "source": [
    "#pcd_bbox.color = [0,0,0]"
   ]
  },
  {
   "cell_type": "code",
   "execution_count": 11,
   "id": "3f1cc773-0d6a-484a-8fa3-9706e22cda42",
   "metadata": {},
   "outputs": [],
   "source": [
    "#points = o3d.utility.Vector3dVector(xyz)"
   ]
  },
  {
   "cell_type": "code",
   "execution_count": 12,
   "id": "31455c1c-549e-40b4-9eda-fb43b64567d9",
   "metadata": {},
   "outputs": [],
   "source": [
    "#o3d_bbox = o3d.geometry.OrientedBoundingBox.create_from_points(points)\n",
    "pcd_bbox=o3d.geometry.Geometry3D.get_oriented_bounding_box(pcd)"
   ]
  },
  {
   "cell_type": "code",
   "execution_count": 13,
   "id": "36b60890-c932-475f-a4a0-eed39c0240bc",
   "metadata": {},
   "outputs": [],
   "source": [
    "#A = open3d.visualization.rendering.Camera\n",
    "#o3d.visualization.draw_geometries([pcd,pcd_bbox])\n"
   ]
  },
  {
   "cell_type": "code",
   "execution_count": 14,
   "id": "8c534acc-eeec-4a83-9597-a2e342477b40",
   "metadata": {},
   "outputs": [
    {
     "data": {
      "text/plain": [
       "OrientedBoundingBox: center: (375776, 165056, 32.055), extent: 6.63697, 3.67064, 0.318279)"
      ]
     },
     "execution_count": 14,
     "metadata": {},
     "output_type": "execute_result"
    }
   ],
   "source": [
    "pcd_bbox"
   ]
  },
  {
   "cell_type": "code",
   "execution_count": 15,
   "id": "a5899046-d60d-4688-9ab8-5d985ba23371",
   "metadata": {},
   "outputs": [],
   "source": [
    "R=pcd_bbox.R"
   ]
  },
  {
   "cell_type": "code",
   "execution_count": 16,
   "id": "f1b33e6d-8d7a-4507-ae84-b703fee3e703",
   "metadata": {},
   "outputs": [
    {
     "data": {
      "text/plain": [
       "array([[ 0.03936969, -0.99920922,  0.00556367],\n",
       "       [ 0.99922247,  0.03938078,  0.0018974 ],\n",
       "       [-0.002115  ,  0.00548464,  0.99998272]])"
      ]
     },
     "execution_count": 16,
     "metadata": {},
     "output_type": "execute_result"
    }
   ],
   "source": [
    "R"
   ]
  },
  {
   "cell_type": "code",
   "execution_count": 17,
   "id": "ae5d41b6-638d-4e8c-867d-19934c9b3f41",
   "metadata": {},
   "outputs": [],
   "source": [
    "theta =  math.asin(-R[2,0])"
   ]
  },
  {
   "cell_type": "code",
   "execution_count": 18,
   "id": "03fa0b86-e6af-4b9a-967f-30436bc8a67e",
   "metadata": {},
   "outputs": [
    {
     "data": {
      "text/plain": [
       "0.002115003007171152"
      ]
     },
     "execution_count": 18,
     "metadata": {},
     "output_type": "execute_result"
    }
   ],
   "source": [
    "theta"
   ]
  },
  {
   "cell_type": "code",
   "execution_count": 19,
   "id": "0ba833bf-bfcc-4cad-b331-2b51907c07c4",
   "metadata": {},
   "outputs": [],
   "source": [
    "#phi = R[2,1]"
   ]
  },
  {
   "cell_type": "code",
   "execution_count": 20,
   "id": "003f274d-c2ac-4040-a369-3b31d0f97009",
   "metadata": {},
   "outputs": [],
   "source": [
    "psi = math.asin((R[1,0])/(math.cos(theta)))"
   ]
  },
  {
   "cell_type": "code",
   "execution_count": 21,
   "id": "334c9b5e-bca8-48fa-9e72-938db5c54789",
   "metadata": {},
   "outputs": [],
   "source": [
    "R2d = [[math.cos(-psi),-math.sin(-psi), 0], [math.sin(-psi), math.cos(-psi), 0],[0,0,1]]"
   ]
  },
  {
   "cell_type": "code",
   "execution_count": 22,
   "id": "924cdc7f-2831-4c58-97e5-f0f1d3718324",
   "metadata": {},
   "outputs": [],
   "source": [
    "pcdc = o3d.geometry.Geometry3D.translate(pcd, -pcd_bbox.center)"
   ]
  },
  {
   "cell_type": "code",
   "execution_count": 23,
   "id": "f4bebe3a-1617-4a44-bfc5-937b96df69ac",
   "metadata": {},
   "outputs": [
    {
     "data": {
      "text/plain": [
       "array([6.63696662, 3.67063517, 0.31827926])"
      ]
     },
     "execution_count": 23,
     "metadata": {},
     "output_type": "execute_result"
    }
   ],
   "source": [
    "pcd_bbox.extent"
   ]
  },
  {
   "cell_type": "code",
   "execution_count": 24,
   "id": "299e4c91-ab13-4e02-8059-3e09abd98af6",
   "metadata": {},
   "outputs": [],
   "source": [
    "pcdc = o3d.geometry.Geometry3D.rotate(pcdc, R2d)"
   ]
  },
  {
   "cell_type": "code",
   "execution_count": 25,
   "id": "59c81ec8-f4fd-4825-b96e-1e962026bda3",
   "metadata": {},
   "outputs": [],
   "source": [
    "pcdc_bbox=o3d.geometry.Geometry3D.get_oriented_bounding_box(pcdc)"
   ]
  },
  {
   "cell_type": "code",
   "execution_count": 26,
   "id": "32fe86c4-7953-40d2-b818-9553b7f26ab0",
   "metadata": {},
   "outputs": [
    {
     "data": {
      "text/plain": [
       "OrientedBoundingBox: center: (-0.168705, 0.00878052, -1.15688e-06), extent: 6.63691, 3.67052, 0.318281)"
      ]
     },
     "execution_count": 26,
     "metadata": {},
     "output_type": "execute_result"
    }
   ],
   "source": [
    "pcdc_bbox"
   ]
  },
  {
   "cell_type": "code",
   "execution_count": 27,
   "id": "e7d58b64-a080-4142-906a-e763b72670a7",
   "metadata": {},
   "outputs": [
    {
     "data": {
      "text/plain": [
       "array([[ 9.99997763e-01,  7.12236958e-06, -2.11505618e-03],\n",
       "       [ 1.87253389e-05, -9.99984952e-01,  5.48592265e-03],\n",
       "       [-2.11498528e-03, -5.48594998e-03, -9.99982715e-01]])"
      ]
     },
     "execution_count": 27,
     "metadata": {},
     "output_type": "execute_result"
    }
   ],
   "source": [
    "pcdc_bbox.R"
   ]
  },
  {
   "cell_type": "code",
   "execution_count": 28,
   "id": "e37f076d-4a10-4af4-b4aa-f2117268a639",
   "metadata": {},
   "outputs": [],
   "source": [
    "xyz = np.asarray(pcdc.points)"
   ]
  },
  {
   "cell_type": "code",
   "execution_count": 29,
   "id": "5bf5a249-db04-47e6-a73a-90d1dfd5f1a2",
   "metadata": {},
   "outputs": [],
   "source": [
    "xyzorientN = xyz[xyz[:,0]>0]\n",
    "xyzorientNE = xyzorientN[xyzorientN[:,1]>0]"
   ]
  },
  {
   "cell_type": "code",
   "execution_count": null,
   "id": "12a75118-2a6f-49ef-960a-8dfb04aebd37",
   "metadata": {},
   "outputs": [],
   "source": []
  },
  {
   "cell_type": "code",
   "execution_count": 30,
   "id": "38233bae-53c0-4561-ad78-b7269e770d4a",
   "metadata": {},
   "outputs": [],
   "source": [
    "\n",
    "xyzorientNW = xyzorientN[xyzorientN[:,1]<0]"
   ]
  },
  {
   "cell_type": "code",
   "execution_count": 31,
   "id": "7388df0f-6103-40d1-8359-f260d529b9c1",
   "metadata": {},
   "outputs": [],
   "source": [
    "xyzorientS = xyz[xyz[:,0]<0]\n",
    "xyzorientSE = xyzorientS[xyzorientS[:,1]>0]"
   ]
  },
  {
   "cell_type": "code",
   "execution_count": 32,
   "id": "a20df812-0d1f-4aff-aa94-9fab814fde82",
   "metadata": {},
   "outputs": [],
   "source": [
    "xyzorientSW = xyzorientS[xyzorientS[:,1]<0]"
   ]
  },
  {
   "cell_type": "code",
   "execution_count": 33,
   "id": "1d5f15db-22a9-4aae-9a91-d4d53cbf2098",
   "metadata": {},
   "outputs": [],
   "source": [
    "xyzorientNE1 = (xyzorientNE[:,[0]]**2)+(xyzorientNE[:,[1]]**2)\n",
    "xyzorientSE1 = (xyzorientSE[:,[0]]**2)+(xyzorientSE[:,[1]]**2)\n",
    "xyzorientNW1 = (xyzorientNW[:,[0]]**2)+(xyzorientNW[:,[1]]**2)\n",
    "xyzorientSW1 = (xyzorientSW[:,[0]]**2)+(xyzorientSW[:,[1]]**2)"
   ]
  },
  {
   "cell_type": "code",
   "execution_count": 34,
   "id": "7771addd-078f-4811-9bc7-4a92c25e11ba",
   "metadata": {},
   "outputs": [],
   "source": [
    "indexNE = np.argmax(xyzorientNE1)\n",
    "indexSE = np.argmax(xyzorientSE1)\n",
    "indexNW = np.argmax(xyzorientNW1)\n",
    "indexSW = np.argmax(xyzorientSW1)"
   ]
  },
  {
   "cell_type": "code",
   "execution_count": 35,
   "id": "92726e93-4e9f-491a-b414-bfdc60360357",
   "metadata": {},
   "outputs": [],
   "source": [
    "theta2 = math.atan((xyzorientNE[indexNE,1]-xyzorientSE[indexSE,1])/(xyzorientNE[indexNE,0]-xyzorientSE[indexSE,0]))"
   ]
  },
  {
   "cell_type": "code",
   "execution_count": 36,
   "id": "9ae8634a-ec8d-442c-ac90-3ce9b670ea1a",
   "metadata": {},
   "outputs": [],
   "source": [
    "theta3 = math.atan((xyzorientNW[indexNW,1]-xyzorientSW[indexSW,1])/(xyzorientNW[indexNW,0]-xyzorientSW[indexSW,0]))"
   ]
  },
  {
   "cell_type": "code",
   "execution_count": 37,
   "id": "be30b1a5-e8d6-447c-beb1-66c4e207d34f",
   "metadata": {},
   "outputs": [
    {
     "name": "stdout",
     "output_type": "stream",
     "text": [
      "0.050203642613267006\n",
      "0.04966683740174052\n"
     ]
    }
   ],
   "source": [
    "print(theta2)\n",
    "print(theta3)"
   ]
  },
  {
   "cell_type": "code",
   "execution_count": 38,
   "id": "aeb05a65-9143-4467-95a0-64a5571bac45",
   "metadata": {},
   "outputs": [
    {
     "data": {
      "text/plain": [
       "3.141592653589793"
      ]
     },
     "execution_count": 38,
     "metadata": {},
     "output_type": "execute_result"
    }
   ],
   "source": [
    "math.pi"
   ]
  },
  {
   "cell_type": "code",
   "execution_count": 39,
   "id": "b23ca00d-70d3-40e5-8764-3a2f871607bc",
   "metadata": {},
   "outputs": [],
   "source": [
    "thetaf = (theta2+theta3)/2"
   ]
  },
  {
   "cell_type": "code",
   "execution_count": 40,
   "id": "4795295f-4302-4638-aac3-5b6be1868bfe",
   "metadata": {},
   "outputs": [
    {
     "data": {
      "text/plain": [
       "2.8610785014027833"
      ]
     },
     "execution_count": 40,
     "metadata": {},
     "output_type": "execute_result"
    }
   ],
   "source": [
    "thetaf*180/math.pi"
   ]
  },
  {
   "cell_type": "code",
   "execution_count": 41,
   "id": "d11ed17f-7308-4272-ba3c-e04b9034e7f7",
   "metadata": {},
   "outputs": [],
   "source": [
    "R22d = [[math.cos(-thetaf),-math.sin(-thetaf), 0], [math.sin(-thetaf), math.cos(-thetaf), 0],[0,0,1]]"
   ]
  },
  {
   "cell_type": "code",
   "execution_count": 42,
   "id": "4fa52f0e-cbb8-4d39-ad8a-26db302b091f",
   "metadata": {},
   "outputs": [
    {
     "data": {
      "text/plain": [
       "True"
      ]
     },
     "execution_count": 42,
     "metadata": {},
     "output_type": "execute_result"
    }
   ],
   "source": [
    "pcdc2 = o3d.geometry.Geometry3D.rotate(pcdc, R22d)\n",
    "o3d.io.write_point_cloud(\"brickflat2.pcd\", pcdc2)"
   ]
  },
  {
   "cell_type": "code",
   "execution_count": 43,
   "id": "eb7099cb-473a-4507-afab-69bfd5476aab",
   "metadata": {},
   "outputs": [
    {
     "name": "stdout",
     "output_type": "stream",
     "text": [
      "xyz_load\n",
      "[[-3.25048127  1.28141254 -0.04210814]\n",
      " [-3.34972014  1.24035773 -0.03760814]\n",
      " [-3.32115971  0.91433811  0.01699186]\n",
      " ...\n",
      " [ 2.97977158 -1.65501189 -0.13310814]\n",
      " [ 3.06095072 -1.63846783 -0.12990814]\n",
      " [ 2.87304374 -1.65708549 -0.13160814]]\n"
     ]
    }
   ],
   "source": [
    "#o3d.io.write_point_cloud(\"copy_of_SGE01.pcd\", pcdc)\n",
    "xyz = np.asarray(pcdc2.points)\n",
    "print('xyz_load')\n",
    "print(xyz)"
   ]
  },
  {
   "cell_type": "code",
   "execution_count": 44,
   "id": "1ea39675-8e65-45cc-b168-18a66846c95c",
   "metadata": {},
   "outputs": [],
   "source": [
    "nopt = xyz.shape[0]"
   ]
  },
  {
   "cell_type": "code",
   "execution_count": 45,
   "id": "a650f4d9-b50e-4529-87ec-0fa417c2478b",
   "metadata": {},
   "outputs": [
    {
     "data": {
      "text/plain": [
       "array([-3.25048127, -3.34972014, -3.32115971, ...,  2.97977158,\n",
       "        3.06095072,  2.87304374])"
      ]
     },
     "execution_count": 45,
     "metadata": {},
     "output_type": "execute_result"
    }
   ],
   "source": [
    "xyz[:,0]"
   ]
  },
  {
   "cell_type": "code",
   "execution_count": 46,
   "id": "8dda1c90-7d02-4de1-b4dd-acfbf4ef8008",
   "metadata": {},
   "outputs": [],
   "source": [
    "cs = np.zeros((nopt, 3))"
   ]
  },
  {
   "cell_type": "code",
   "execution_count": null,
   "id": "87e48d93-22ff-4bb4-9c41-293b0de12b22",
   "metadata": {},
   "outputs": [],
   "source": []
  },
  {
   "cell_type": "code",
   "execution_count": 47,
   "id": "cfd8b63d-d92c-4b1e-8e8f-051761ae9cc7",
   "metadata": {},
   "outputs": [],
   "source": [
    "numpoints = len(xyz[:,0])\n",
    "xn = numpoints**(1/2)\n",
    "#for roughly 100 points\n",
    "num = 100000\n",
    "ratio = num/numpoints"
   ]
  },
  {
   "cell_type": "code",
   "execution_count": 48,
   "id": "81f549f0-b22c-4157-a547-04874b0e965b",
   "metadata": {},
   "outputs": [
    {
     "data": {
      "text/plain": [
       "0.08986300385062972"
      ]
     },
     "execution_count": 48,
     "metadata": {},
     "output_type": "execute_result"
    }
   ],
   "source": [
    "ratio"
   ]
  },
  {
   "cell_type": "code",
   "execution_count": 49,
   "id": "7463cca1-0483-400c-a385-c32b00ae50ab",
   "metadata": {},
   "outputs": [
    {
     "data": {
      "text/plain": [
       "1112805"
      ]
     },
     "execution_count": 49,
     "metadata": {},
     "output_type": "execute_result"
    }
   ],
   "source": [
    "numpoints"
   ]
  },
  {
   "cell_type": "code",
   "execution_count": 50,
   "id": "deb4e761-deeb-4fa2-a708-b286c57fdb38",
   "metadata": {},
   "outputs": [],
   "source": [
    "xmins= np.amin(xyz[:,0])+((np.max(xyz[:,0])-np.min(xyz[:,0]))*ratio)"
   ]
  },
  {
   "cell_type": "code",
   "execution_count": 51,
   "id": "d450cc92-97de-4d25-a510-edb5c48fff3f",
   "metadata": {},
   "outputs": [],
   "source": [
    "cs = xyz[xyz[:,0]<xmins,:]"
   ]
  },
  {
   "cell_type": "code",
   "execution_count": 52,
   "id": "4da08702-d0a7-4bb0-8dbf-c19c1a35176c",
   "metadata": {},
   "outputs": [],
   "source": [
    "cs2d = cs[:,[1,2]]"
   ]
  },
  {
   "cell_type": "code",
   "execution_count": 53,
   "id": "136d115a-44ff-40ad-b8bc-fa99b36647e7",
   "metadata": {},
   "outputs": [
    {
     "data": {
      "text/plain": [
       "array([[-3.25048127,  1.28141254, -0.04210814],\n",
       "       [-3.34972014,  1.24035773, -0.03760814],\n",
       "       [-3.32115971,  0.91433811,  0.01699186],\n",
       "       ...,\n",
       "       [-3.03520845, -1.64032244, -0.13290814],\n",
       "       [-3.28440223, -1.6478926 , -0.13290814],\n",
       "       [-3.17161879, -1.64058263, -0.12510814]])"
      ]
     },
     "execution_count": 53,
     "metadata": {},
     "output_type": "execute_result"
    }
   ],
   "source": [
    "cs"
   ]
  },
  {
   "cell_type": "code",
   "execution_count": 54,
   "id": "b123400d-41e2-4810-bd58-85c27dc9bc28",
   "metadata": {},
   "outputs": [
    {
     "data": {
      "text/plain": [
       "array([[-3.25048127,  1.28141254, -0.04210814],\n",
       "       [-3.34972014,  1.24035773, -0.03760814],\n",
       "       [-3.32115971,  0.91433811,  0.01699186],\n",
       "       ...,\n",
       "       [ 2.97977158, -1.65501189, -0.13310814],\n",
       "       [ 3.06095072, -1.63846783, -0.12990814],\n",
       "       [ 2.87304374, -1.65708549, -0.13160814]])"
      ]
     },
     "execution_count": 54,
     "metadata": {},
     "output_type": "execute_result"
    }
   ],
   "source": [
    "xyz"
   ]
  },
  {
   "cell_type": "code",
   "execution_count": 55,
   "id": "ad8c4fe4-adfb-400b-8e39-e5646efa51b8",
   "metadata": {},
   "outputs": [
    {
     "data": {
      "text/plain": [
       "-2.851815009924334"
      ]
     },
     "execution_count": 55,
     "metadata": {},
     "output_type": "execute_result"
    }
   ],
   "source": [
    "xmins"
   ]
  },
  {
   "cell_type": "code",
   "execution_count": 56,
   "id": "fe86f892-6eef-4538-ac83-3afbec1409d5",
   "metadata": {},
   "outputs": [
    {
     "data": {
      "text/plain": [
       "array([[ 1.28141254, -0.04210814],\n",
       "       [ 1.24035773, -0.03760814],\n",
       "       [ 0.91433811,  0.01699186],\n",
       "       ...,\n",
       "       [-1.64032244, -0.13290814],\n",
       "       [-1.6478926 , -0.13290814],\n",
       "       [-1.64058263, -0.12510814]])"
      ]
     },
     "execution_count": 56,
     "metadata": {},
     "output_type": "execute_result"
    }
   ],
   "source": [
    "cs2d"
   ]
  },
  {
   "cell_type": "code",
   "execution_count": 57,
   "id": "533a98e9-b83a-40fc-81a7-b739c948e70f",
   "metadata": {},
   "outputs": [
    {
     "data": {
      "text/plain": [
       "(96256, 3)"
      ]
     },
     "execution_count": 57,
     "metadata": {},
     "output_type": "execute_result"
    }
   ],
   "source": [
    "np.shape(cs)"
   ]
  },
  {
   "cell_type": "code",
   "execution_count": 58,
   "id": "a7f5884a-383f-44c0-bea4-0bb2ce2f687c",
   "metadata": {},
   "outputs": [
    {
     "data": {
      "text/plain": [
       "0.08649853298646214"
      ]
     },
     "execution_count": 58,
     "metadata": {},
     "output_type": "execute_result"
    }
   ],
   "source": [
    "np.shape(cs2d)[0]/numpoints"
   ]
  },
  {
   "cell_type": "code",
   "execution_count": 59,
   "id": "9adf7b46-0a6b-41e6-9393-dfa237621da4",
   "metadata": {},
   "outputs": [
    {
     "data": {
      "image/png": "[encoded data removed]",
      "text/plain": [
       "<Figure size 640x480 with 1 Axes>"
      ]
     },
     "metadata": {},
     "output_type": "display_data"
    }
   ],
   "source": [
    "fig, ax = plt.subplots()\n",
    "ax.scatter(cs2d[:,0],cs2d[:,1])\n",
    "plt.axis('off')\n",
    "plt.savefig('cs.png')"
   ]
  },
  {
   "cell_type": "code",
   "execution_count": null,
   "id": "062eefe3-3fbc-4474-9e33-97de90f5e3c3",
   "metadata": {},
   "outputs": [],
   "source": []
  },
  {
   "cell_type": "code",
   "execution_count": null,
   "id": "7ad1f424-1a08-4b9b-aff3-8a3ebf950861",
   "metadata": {},
   "outputs": [],
   "source": []
  },
  {
   "cell_type": "code",
   "execution_count": 60,
   "id": "5daf2d95-1e42-48c1-a23a-61a7d3cf21ff",
   "metadata": {},
   "outputs": [],
   "source": [
    "from skimage.util import invert\n",
    "from skimage.filters import threshold_mean\n",
    "img = Image.open('cs.png')\n",
    "img = ImageOps.grayscale(img)\n",
    "img2 = np.array(img)\n",
    "imginv = invert(img2)\n",
    "#thresh = threshold_mean(imginv)\n",
    "#binary = imginv > thresh\n",
    "#binary [0][:,[2,3]]\n",
    "\n",
    "#sk = morphology.skeletonize(imginv)\n",
    "sk = morphology.thin(imginv)\n",
    "sk= Image.fromarray(sk)\n",
    "sk.save(\"cs2.png\")"
   ]
  },
  {
   "cell_type": "code",
   "execution_count": null,
   "id": "925f62e5-5944-4b38-8a04-757c90201d9b",
   "metadata": {},
   "outputs": [],
   "source": []
  },
  {
   "cell_type": "code",
   "execution_count": 61,
   "id": "003b0bc1-586a-4f7e-b33c-a90c565898fb",
   "metadata": {},
   "outputs": [
    {
     "data": {
      "image/png": "[encoded data removed]",
      "text/plain": [
       "<Figure size 800x400 with 2 Axes>"
      ]
     },
     "metadata": {},
     "output_type": "display_data"
    }
   ],
   "source": [
    "fig, axes = plt.subplots(nrows=1, ncols=2, figsize=(8, 4),\n",
    "                         sharex=True, sharey=True)\n",
    "\n",
    "ax = axes.ravel()\n",
    "\n",
    "ax[0].imshow(img, cmap=plt.cm.gray)\n",
    "ax[0].axis('off')\n",
    "ax[0].set_title('original', fontsize=20)\n",
    "\n",
    "ax[1].imshow(sk, cmap=plt.cm.gray)\n",
    "ax[1].axis('off')\n",
    "ax[1].set_title('skeleton', fontsize=20)\n",
    "\n",
    "fig.tight_layout()\n",
    "plt.show()"
   ]
  },
  {
   "cell_type": "code",
   "execution_count": 62,
   "id": "d5ee2a93-7cde-4010-9c22-f24f9075b0ed",
   "metadata": {},
   "outputs": [],
   "source": [
    "#csp = o3d.geometry.PointCloud()\n",
    "#csp.points = o3d.utility.Vector3dVector(cs)\n",
    "#ch = o3d.geometry.PointCloud.compute_convex_hull(csp)\n",
    "#ch,_ = csp.compute_convex_hull()"
   ]
  },
  {
   "cell_type": "code",
   "execution_count": 63,
   "id": "a2977a21-8b36-4270-a3ef-46d5e9ad6553",
   "metadata": {},
   "outputs": [],
   "source": [
    "#chl = o3d.geometry.LineSet.create_from_triangle_mesh(ch)\n",
    "#ch.compute_vertex_normals()\n",
    "\n",
    "#pcl = ch.sample_points_poisson_disk(number_of_points=2000)\n",
    "#o3d.visualization.draw_geometries([pcl])\n",
    "\n",
    "#o3d.visualization.draw_geometries([chl])\n"
   ]
  },
  {
   "cell_type": "code",
   "execution_count": 64,
   "id": "4cd9c0a2-e46e-4699-96f0-ce89f2522fd2",
   "metadata": {},
   "outputs": [],
   "source": [
    "#o3d.visualization.draw_geometries([ch])\n"
   ]
  },
  {
   "cell_type": "code",
   "execution_count": 65,
   "id": "35b6701d-f28e-453a-9616-3b6c3202c02d",
   "metadata": {},
   "outputs": [],
   "source": [
    "hull = spatial.ConvexHull(cs2d, incremental=False, qhull_options=None)"
   ]
  },
  {
   "cell_type": "code",
   "execution_count": 66,
   "id": "47f1437c-adbd-42e5-937d-a5294f93f065",
   "metadata": {},
   "outputs": [
    {
     "data": {
      "image/png": "[encoded data removed]",
      "text/plain": [
       "<Figure size 640x480 with 1 Axes>"
      ]
     },
     "metadata": {},
     "output_type": "display_data"
    }
   ],
   "source": [
    "#plt.plot(cs2d[:,0], cs2d[:,1], 'o')\n",
    "for simplex in hull.simplices:\n",
    "    plt.plot(cs2d[simplex, 0], cs2d[simplex, 1], 'k-')"
   ]
  },
  {
   "cell_type": "code",
   "execution_count": 67,
   "id": "cc485ace-5544-46c0-b756-74e4b477e455",
   "metadata": {},
   "outputs": [
    {
     "data": {
      "image/png": "[encoded data removed]",
      "text/plain": [
       "<Figure size 640x480 with 1 Axes>"
      ]
     },
     "metadata": {},
     "output_type": "display_data"
    }
   ],
   "source": [
    "plt.plot(cs2d[hull.vertices,0], cs2d[hull.vertices,1], 'r--', lw=4)\n",
    "#plt.plot(cs2d[hull.vertices[0],0], cs2d[hull.vertices[0],1], 'ro')\n",
    "plt.show()"
   ]
  },
  {
   "cell_type": "code",
   "execution_count": 68,
   "id": "5a52c1e5-7846-408d-b520-2404a46c8f92",
   "metadata": {},
   "outputs": [],
   "source": [
    "cshull = np.zeros((len(hull.vertices),3))\n",
    "cshull[:,1] = cs2d[hull.vertices,0]\n",
    "cshull[:,2] = cs2d[hull.vertices,1]\n",
    "cshull3d = o3d.geometry.PointCloud()\n",
    "cshull3d.points = o3d.utility.Vector3dVector(cshull)"
   ]
  },
  {
   "cell_type": "code",
   "execution_count": 69,
   "id": "73bfe633-10c1-4cc9-bb59-d604e02ebab8",
   "metadata": {},
   "outputs": [],
   "source": [
    "#print(\"Testing kdtree in Open3D...\")\n",
    "#print(\"Load a point cloud and paint it gray.\")\n",
    "\n",
    "#pcd.paint_uniform_color([0.5, 0.5, 0.5])\n",
    "#pcd_tree = o3d.geometry.KDTreeFlann(pcdc)"
   ]
  },
  {
   "cell_type": "code",
   "execution_count": 70,
   "id": "ea9b6a63-a728-4e63-8dd8-e6a1a26d241f",
   "metadata": {},
   "outputs": [],
   "source": [
    "#distances1 = pcdc.compute_point_cloud_distance(cshull3d)"
   ]
  },
  {
   "cell_type": "code",
   "execution_count": 71,
   "id": "b2c1227b-4b5b-44fc-8cac-7591bfd7f0df",
   "metadata": {},
   "outputs": [],
   "source": [
    "#distancesnp = np.asarray(distances1)"
   ]
  },
  {
   "cell_type": "code",
   "execution_count": 72,
   "id": "cb293498-1dbf-420b-a2de-6119a00b9454",
   "metadata": {},
   "outputs": [
    {
     "data": {
      "text/plain": [
       "array([[ 0.        , -0.44159063,  0.09319186],\n",
       "       [ 0.        , -1.11367416,  0.03139186],\n",
       "       [ 0.        , -1.37530364, -0.02420814],\n",
       "       [ 0.        , -1.54482559, -0.07390814],\n",
       "       [ 0.        , -1.60375503, -0.09520814],\n",
       "       [ 0.        , -1.653418  , -0.11340814],\n",
       "       [ 0.        , -1.65800297, -0.11820814],\n",
       "       [ 0.        , -1.66053352, -0.12860814],\n",
       "       [ 0.        , -1.66325124, -0.14020814],\n",
       "       [ 0.        , -1.66264271, -0.14280814],\n",
       "       [ 0.        ,  1.67732038, -0.14410814],\n",
       "       [ 0.        ,  1.68301923, -0.13940814],\n",
       "       [ 0.        ,  1.68375026, -0.13870814],\n",
       "       [ 0.        ,  1.68416356, -0.13730814],\n",
       "       [ 0.        ,  1.68456465, -0.13560814],\n",
       "       [ 0.        ,  1.68479708, -0.13460814],\n",
       "       [ 0.        ,  1.68600709, -0.12870814],\n",
       "       [ 0.        ,  1.68743661, -0.12160814],\n",
       "       [ 0.        ,  1.66302407, -0.08910814],\n",
       "       [ 0.        ,  1.32751522, -0.00450814],\n",
       "       [ 0.        ,  0.75772915,  0.04869186],\n",
       "       [ 0.        ,  0.45948309,  0.07109186],\n",
       "       [ 0.        ,  0.11577989,  0.08799186],\n",
       "       [ 0.        , -0.07164367,  0.09269186]])"
      ]
     },
     "execution_count": 72,
     "metadata": {},
     "output_type": "execute_result"
    }
   ],
   "source": [
    "cshull"
   ]
  },
  {
   "cell_type": "code",
   "execution_count": 73,
   "id": "0ae53b0e-490c-400d-aac7-64d11573400d",
   "metadata": {},
   "outputs": [],
   "source": [
    "xyzindex = np.zeros((len(xyz[:,0]),4))\n",
    "xyzindex[:, [0,1,2]] = xyz\n",
    "numrotate= len(cshull[:,0])\n",
    "updatedlist = list(range(0,numrotate-1))\n",
    "updatedlist.insert(0,0)\n",
    "cshullav = (cshull[:,[1,2]]+cshull[[updatedlist],:][0][:,[1,2]])/2\n",
    "\n",
    "for a in range(len(xyz[:,0])-1):\n",
    "    \n",
    "    dist = cshullav-xyz[a,[1,2]]\n",
    "    lengths = np.sum(dist**2, axis=1)\n",
    "    xyzindex[a,3] = np.argmin(lengths) "
   ]
  },
  {
   "cell_type": "code",
   "execution_count": 74,
   "id": "963e1e2e-ad3e-461a-8738-b2febd5fbbad",
   "metadata": {},
   "outputs": [
    {
     "data": {
      "text/plain": [
       "array([[-0.44159063,  0.09319186],\n",
       "       [-0.7776324 ,  0.06229186],\n",
       "       [-1.2444889 ,  0.00359186],\n",
       "       [-1.46006462, -0.04905814],\n",
       "       [-1.57429031, -0.08455814],\n",
       "       [-1.62858651, -0.10430814],\n",
       "       [-1.65571048, -0.11580814],\n",
       "       [-1.65926824, -0.12340814],\n",
       "       [-1.66189238, -0.13440814],\n",
       "       [-1.66294697, -0.14150814],\n",
       "       [ 0.00733884, -0.14345814],\n",
       "       [ 1.68016981, -0.14175814],\n",
       "       [ 1.68338474, -0.13905814],\n",
       "       [ 1.68395691, -0.13800814],\n",
       "       [ 1.68436411, -0.13645814],\n",
       "       [ 1.68468087, -0.13510814],\n",
       "       [ 1.68540209, -0.13165814],\n",
       "       [ 1.68672185, -0.12515814],\n",
       "       [ 1.67523034, -0.10535814],\n",
       "       [ 1.49526964, -0.04680814],\n",
       "       [ 1.04262218,  0.02209186],\n",
       "       [ 0.60860612,  0.05989186],\n",
       "       [ 0.28763149,  0.07954186],\n",
       "       [ 0.02206811,  0.09034186]])"
      ]
     },
     "execution_count": 74,
     "metadata": {},
     "output_type": "execute_result"
    }
   ],
   "source": [
    "cshullav"
   ]
  },
  {
   "cell_type": "code",
   "execution_count": 75,
   "id": "9fe07a6b-383c-4e07-9855-36a2ce6c4ab9",
   "metadata": {},
   "outputs": [
    {
     "data": {
      "text/plain": [
       "array([[ 0.        , -0.44159063,  0.09319186],\n",
       "       [ 0.        , -1.11367416,  0.03139186],\n",
       "       [ 0.        , -1.37530364, -0.02420814],\n",
       "       [ 0.        , -1.54482559, -0.07390814],\n",
       "       [ 0.        , -1.60375503, -0.09520814],\n",
       "       [ 0.        , -1.653418  , -0.11340814],\n",
       "       [ 0.        , -1.65800297, -0.11820814],\n",
       "       [ 0.        , -1.66053352, -0.12860814],\n",
       "       [ 0.        , -1.66325124, -0.14020814],\n",
       "       [ 0.        , -1.66264271, -0.14280814],\n",
       "       [ 0.        ,  1.67732038, -0.14410814],\n",
       "       [ 0.        ,  1.68301923, -0.13940814],\n",
       "       [ 0.        ,  1.68375026, -0.13870814],\n",
       "       [ 0.        ,  1.68416356, -0.13730814],\n",
       "       [ 0.        ,  1.68456465, -0.13560814],\n",
       "       [ 0.        ,  1.68479708, -0.13460814],\n",
       "       [ 0.        ,  1.68600709, -0.12870814],\n",
       "       [ 0.        ,  1.68743661, -0.12160814],\n",
       "       [ 0.        ,  1.66302407, -0.08910814],\n",
       "       [ 0.        ,  1.32751522, -0.00450814],\n",
       "       [ 0.        ,  0.75772915,  0.04869186],\n",
       "       [ 0.        ,  0.45948309,  0.07109186],\n",
       "       [ 0.        ,  0.11577989,  0.08799186],\n",
       "       [ 0.        , -0.07164367,  0.09269186]])"
      ]
     },
     "execution_count": 75,
     "metadata": {},
     "output_type": "execute_result"
    }
   ],
   "source": [
    "cshull"
   ]
  },
  {
   "cell_type": "code",
   "execution_count": null,
   "id": "76768e25-6e11-45c4-bd64-726314302806",
   "metadata": {},
   "outputs": [],
   "source": []
  },
  {
   "cell_type": "code",
   "execution_count": null,
   "id": "5b717f31-eb4e-430e-92e7-e08d5761870c",
   "metadata": {},
   "outputs": [],
   "source": []
  },
  {
   "cell_type": "code",
   "execution_count": null,
   "id": "851dfb32-7a18-4feb-be61-69a88de1a9d0",
   "metadata": {},
   "outputs": [],
   "source": []
  },
  {
   "cell_type": "code",
   "execution_count": null,
   "id": "753c338e-7107-4318-ba9d-c047a127801b",
   "metadata": {},
   "outputs": [],
   "source": []
  },
  {
   "cell_type": "code",
   "execution_count": 76,
   "id": "a23ca119-3a46-430a-a1e4-da7b8fc25b09",
   "metadata": {},
   "outputs": [
    {
     "data": {
      "text/plain": [
       "array([[-3.25048127e+00,  1.28141254e+00, -4.21081445e-02,\n",
       "         1.90000000e+01],\n",
       "       [-3.34972014e+00,  1.24035773e+00, -3.76081445e-02,\n",
       "         2.00000000e+01],\n",
       "       [-3.32115971e+00,  9.14338113e-01,  1.69918555e-02,\n",
       "         2.00000000e+01],\n",
       "       ...,\n",
       "       [ 2.97977158e+00, -1.65501189e+00, -1.33108144e-01,\n",
       "         8.00000000e+00],\n",
       "       [ 3.06095072e+00, -1.63846783e+00, -1.29908144e-01,\n",
       "         7.00000000e+00],\n",
       "       [ 2.87304374e+00, -1.65708549e+00, -1.31608144e-01,\n",
       "         0.00000000e+00]])"
      ]
     },
     "execution_count": 76,
     "metadata": {},
     "output_type": "execute_result"
    }
   ],
   "source": [
    "xyzindex"
   ]
  },
  {
   "cell_type": "code",
   "execution_count": 77,
   "id": "f3eda429-6ffc-448b-a174-b5d296cf79c0",
   "metadata": {},
   "outputs": [
    {
     "name": "stdout",
     "output_type": "stream",
     "text": [
      "Number of segments to unfold 24\n",
      "calculated transform 0\n",
      "segment transformed 0\n",
      "calculated transform 1\n",
      "segment transformed 1\n",
      "calculated transform 2\n",
      "segment transformed 2\n",
      "calculated transform 3\n",
      "segment transformed 3\n",
      "calculated transform 4\n",
      "segment transformed 4\n",
      "calculated transform 5\n",
      "segment transformed 5\n",
      "calculated transform 6\n",
      "segment transformed 6\n",
      "calculated transform 7\n",
      "segment transformed 7\n",
      "calculated transform 8\n",
      "segment transformed 8\n",
      "calculated transform 9\n",
      "segment transformed 9\n",
      "calculated transform 10\n",
      "segment transformed 10\n",
      "calculated transform 11\n",
      "segment transformed 11\n",
      "calculated transform 12\n",
      "segment transformed 12\n",
      "calculated transform 13\n",
      "segment transformed 13\n",
      "calculated transform 14\n",
      "segment transformed 14\n",
      "calculated transform 15\n",
      "segment transformed 15\n",
      "calculated transform 16\n",
      "segment transformed 16\n",
      "calculated transform 17\n",
      "segment transformed 17\n",
      "calculated transform 18\n",
      "segment transformed 18\n",
      "calculated transform 19\n",
      "segment transformed 19\n",
      "calculated transform 20\n",
      "segment transformed 20\n",
      "calculated transform 21\n",
      "segment transformed 21\n",
      "calculated transform 22\n",
      "segment transformed 22\n"
     ]
    }
   ],
   "source": [
    "cshullflat = cshull\n",
    "cshull2 = np.append(cshull,[[0,0,0]],axis = 0)\n",
    "no = np.shape(cshull)[0]\n",
    "a=0\n",
    "xyzflat = xyzindex\n",
    "print(\"Number of segments to unfold\",no)\n",
    "for a in range(no-1):\n",
    "    theta = math.atan((cshull2[a,1]-cshull2[a-1,1])/(cshull2[a,2]-cshull2[a-1,2]))\n",
    "    #r = (((cshull2[a,1]-cshull2[a-1,1])**2)+((cshull2[a,2]-cshull2[a-1,2])**2)\n",
    "    R = np.array([[math.cos(theta), math.sin(theta)],[-math.sin(theta),math.cos(theta)]])\n",
    "    temp = cshull2[a:no,[1,2]]-cshull2[a-1,[1,2]]\n",
    "    new = np.matmul(temp,R)+ cshull2[a-1,[1,2]]\n",
    "    cshull2[a:no,[1,2]]= new #np.matmul(temp,R)+ cshull2[a-1,[1,2]]\n",
    "    print(\"calculated transform\",a)\n",
    "    tempxyz = xyzflat[xyzflat[:,3]>=a,1:3]-cshull2[a-1,[1,2]]\n",
    "    newxyz = np.matmul(tempxyz,R)+ cshull2[a-1,[1,2]]\n",
    "    xyzflat[xyzflat[:,3]>=a,1:3]= newxyz \n",
    "    print(\"segment transformed\",a)"
   ]
  },
  {
   "cell_type": "code",
   "execution_count": 78,
   "id": "1201f4d2-509f-409b-b84a-75fbab00cca8",
   "metadata": {},
   "outputs": [
    {
     "data": {
      "text/plain": [
       "(205798, 2)"
      ]
     },
     "execution_count": 78,
     "metadata": {},
     "output_type": "execute_result"
    }
   ],
   "source": [
    "newxyz.shape"
   ]
  },
  {
   "cell_type": "code",
   "execution_count": 79,
   "id": "8f15a880-4df6-4d27-a06d-2ee3109282d2",
   "metadata": {},
   "outputs": [
    {
     "data": {
      "text/plain": [
       "(2, 2)"
      ]
     },
     "execution_count": 79,
     "metadata": {},
     "output_type": "execute_result"
    }
   ],
   "source": [
    "xyzflat[a:no,1:3].shape"
   ]
  },
  {
   "cell_type": "code",
   "execution_count": 80,
   "id": "028d8ac7-35f5-4593-b5dc-44bb94917f93",
   "metadata": {},
   "outputs": [
    {
     "data": {
      "text/plain": [
       "array([False, False, False, ..., False, False, False])"
      ]
     },
     "execution_count": 80,
     "metadata": {},
     "output_type": "execute_result"
    }
   ],
   "source": [
    "xyzflat[:,3]>=a"
   ]
  },
  {
   "cell_type": "code",
   "execution_count": 81,
   "id": "c9273933-f33e-4ad4-8a2f-42a1016c9782",
   "metadata": {},
   "outputs": [],
   "source": [
    "b = xyzflat[xyzflat[:,3]>=a]"
   ]
  },
  {
   "cell_type": "code",
   "execution_count": 82,
   "id": "97df6b83-1d77-484e-a3bb-32de0ad302f9",
   "metadata": {},
   "outputs": [
    {
     "data": {
      "text/plain": [
       "array([[ 9.75425539e-03,  6.41211583e+00],\n",
       "       [ 1.10917351e-02,  6.61704211e+00],\n",
       "       [ 6.44406381e-03,  6.49165397e+00],\n",
       "       ...,\n",
       "       [-3.75238566e-04,  6.64866714e+00],\n",
       "       [ 4.18888940e-03,  6.54973573e+00],\n",
       "       [ 1.35955848e-02,  6.36657218e+00]])"
      ]
     },
     "execution_count": 82,
     "metadata": {},
     "output_type": "execute_result"
    }
   ],
   "source": [
    "b[:,[1,2]]"
   ]
  },
  {
   "cell_type": "code",
   "execution_count": 83,
   "id": "47ce4313-df87-4813-b731-41bebbb29565",
   "metadata": {},
   "outputs": [
    {
     "data": {
      "text/plain": [
       "(1112805, 4)"
      ]
     },
     "execution_count": 83,
     "metadata": {},
     "output_type": "execute_result"
    }
   ],
   "source": [
    "xyzflat.shape"
   ]
  },
  {
   "cell_type": "code",
   "execution_count": 84,
   "id": "09eb2f0b-5522-4966-8c81-44ec611a37e3",
   "metadata": {},
   "outputs": [
    {
     "data": {
      "text/plain": [
       "(205798, 4)"
      ]
     },
     "execution_count": 84,
     "metadata": {},
     "output_type": "execute_result"
    }
   ],
   "source": [
    "b.shape"
   ]
  },
  {
   "cell_type": "code",
   "execution_count": 85,
   "id": "b96753e4-53a2-44db-b707-48f2e52243ad",
   "metadata": {},
   "outputs": [],
   "source": [
    "    visualise = o3d.geometry.PointCloud()\n",
    "    visualise.points = o3d.utility.Vector3dVector(xyzflat[:,[0,1,2]])\n",
    "    visualise.colors = pcd.colors"
   ]
  },
  {
   "cell_type": "code",
   "execution_count": 86,
   "id": "88d5a89b-d342-4a84-8618-e11882ba58c2",
   "metadata": {},
   "outputs": [
    {
     "data": {
      "text/plain": [
       "True"
      ]
     },
     "execution_count": 86,
     "metadata": {},
     "output_type": "execute_result"
    }
   ],
   "source": [
    "o3d.io.write_point_cloud(\"testflatten.pcd\",visualise)"
   ]
  },
  {
   "cell_type": "code",
   "execution_count": 87,
   "id": "8bbc1b56-0a06-4482-a18d-a26eb6424d33",
   "metadata": {},
   "outputs": [
    {
     "data": {
      "text/plain": [
       "(1112805,)"
      ]
     },
     "execution_count": 87,
     "metadata": {},
     "output_type": "execute_result"
    }
   ],
   "source": [
    "np.shape(xyzflat[:,0])"
   ]
  },
  {
   "cell_type": "code",
   "execution_count": 88,
   "id": "d6d9ad6e-6ae2-41a4-81ec-2576b02acf62",
   "metadata": {},
   "outputs": [
    {
     "data": {
      "text/plain": [
       "array([[-3.25048127e+00, -4.77309591e-02,  5.50587361e+00,\n",
       "         1.90000000e+01],\n",
       "       [-3.34972014e+00, -4.10591713e-02,  5.55406638e+00,\n",
       "         2.00000000e+01],\n",
       "       [-3.32115971e+00, -1.70037199e-02,  5.88375000e+00,\n",
       "         2.00000000e+01],\n",
       "       ...,\n",
       "       [ 2.97977158e+00, -6.40254261e-03,  1.70638200e+00,\n",
       "         8.00000000e+00],\n",
       "       [ 3.06095072e+00, -2.17474829e-02,  1.69930645e+00,\n",
       "         7.00000000e+00],\n",
       "       [ 2.87304374e+00, -4.70941288e-01,  1.59419802e+00,\n",
       "         0.00000000e+00]])"
      ]
     },
     "execution_count": 88,
     "metadata": {},
     "output_type": "execute_result"
    }
   ],
   "source": [
    "xyzflat"
   ]
  },
  {
   "cell_type": "code",
   "execution_count": 89,
   "id": "c7906c1c-05c1-40b0-965f-7f6b9b3e9e19",
   "metadata": {},
   "outputs": [
    {
     "data": {
      "text/plain": [
       "(1112805,)"
      ]
     },
     "execution_count": 89,
     "metadata": {},
     "output_type": "execute_result"
    }
   ],
   "source": [
    "np.shape(las.x)"
   ]
  },
  {
   "cell_type": "code",
   "execution_count": 90,
   "id": "008fd0c3-7274-4abb-bb2a-22abe57e676e",
   "metadata": {},
   "outputs": [
    {
     "data": {
      "text/plain": [
       "array([-3.25048127, -3.34972014, -3.32115971, ...,  2.97977158,\n",
       "        3.06095072,  2.87304374])"
      ]
     },
     "execution_count": 90,
     "metadata": {},
     "output_type": "execute_result"
    }
   ],
   "source": [
    "xyzflat[:,0]"
   ]
  },
  {
   "cell_type": "code",
   "execution_count": 91,
   "id": "374aaa5f-beef-4f77-9e3d-feed887a6f21",
   "metadata": {},
   "outputs": [
    {
     "data": {
      "text/plain": [
       "<ScaledArrayView([375775.1488 375775.1909 375775.5166 ... 375778.0193 375778.0019\n",
       " 375778.0225])>"
      ]
     },
     "execution_count": 91,
     "metadata": {},
     "output_type": "execute_result"
    }
   ],
   "source": [
    "las.x"
   ]
  },
  {
   "cell_type": "code",
   "execution_count": 92,
   "id": "b5554c61-e4e5-4bd4-bb2f-f79052b209ce",
   "metadata": {},
   "outputs": [
    {
     "data": {
      "text/plain": [
       "array([[-3.25048127e+00, -4.77309591e-02,  5.50587361e+00,\n",
       "         1.90000000e+01],\n",
       "       [-3.34972014e+00, -4.10591713e-02,  5.55406638e+00,\n",
       "         2.00000000e+01],\n",
       "       [-3.32115971e+00, -1.70037199e-02,  5.88375000e+00,\n",
       "         2.00000000e+01],\n",
       "       ...,\n",
       "       [ 2.97977158e+00, -6.40254261e-03,  1.70638200e+00,\n",
       "         8.00000000e+00],\n",
       "       [ 3.06095072e+00, -2.17474829e-02,  1.69930645e+00,\n",
       "         7.00000000e+00],\n",
       "       [ 2.87304374e+00, -4.70941288e-01,  1.59419802e+00,\n",
       "         0.00000000e+00]])"
      ]
     },
     "execution_count": 92,
     "metadata": {},
     "output_type": "execute_result"
    }
   ],
   "source": [
    "#xyzflat = np.trunc(xyzflat*(10**0))/(10**0)\n",
    "xyzflat"
   ]
  },
  {
   "cell_type": "code",
   "execution_count": 93,
   "id": "9e12b6da-8583-47b9-9d2b-1c94db01c451",
   "metadata": {},
   "outputs": [],
   "source": [
    "las.x[0] = 370000"
   ]
  },
  {
   "cell_type": "code",
   "execution_count": null,
   "id": "7cbc298c-4880-4ace-ae01-a8043c812dbe",
   "metadata": {},
   "outputs": [],
   "source": []
  },
  {
   "cell_type": "code",
   "execution_count": 97,
   "id": "3a31e61a-6f05-4dbe-b533-0e51d757dba1",
   "metadata": {},
   "outputs": [],
   "source": [
    "outfile = laspy.create(file_version=\"1.2\", point_format=3)\n",
    "\n",
    "#outfile = laspy.file.File(\"new_path.las\", header=file.header, mode=\"w\")\n",
    "allx =  xyzflat[:,2]\n",
    "ally =  xyzflat[:,0]\n",
    "allz =  xyzflat[:,1]\n",
    "xmin = np.floor(np.min(allx))\n",
    "ymin = np.floor(np.min(ally))\n",
    "zmin = np.floor(np.min(allz))\n",
    "\n",
    "outfile.header.offset = [xmin,ymin,zmin] # how to know what this should be?\n",
    "outfile.header.scale = [0.001,0.001,0.001] # how to know what this should be?\n",
    "\n",
    "outfile.x = allx\n",
    "outfile.y = ally\n",
    "outfile.z = allz\n",
    "outfile.write(\"testflatten.las\")\n",
    "#outfile.close()"
   ]
  },
  {
   "cell_type": "code",
   "execution_count": null,
   "id": "77da207b-dc0c-460d-ae2d-0a420d85469e",
   "metadata": {},
   "outputs": [],
   "source": [
    "#las.write(\"testflatten.las\")"
   ]
  },
  {
   "cell_type": "code",
   "execution_count": null,
   "id": "7d4d66f8-b8f5-4125-a69d-4a5dad201749",
   "metadata": {},
   "outputs": [],
   "source": [
    "o3d.visualization.draw_geometries([visualise])"
   ]
  },
  {
   "cell_type": "code",
   "execution_count": null,
   "id": "b852a216-0809-4943-b6ce-d83003fa974a",
   "metadata": {},
   "outputs": [
    {
     "data": {
      "text/plain": [
       "array([-3., -3., -3., ...,  2.,  3.,  2.])"
      ]
     },
     "execution_count": 106,
     "metadata": {},
     "output_type": "execute_result"
    }
   ],
   "source": [
    "allx"
   ]
  },
  {
   "cell_type": "code",
   "execution_count": null,
   "id": "de52e64a-9b60-40b9-ab7a-bf5e3b138db9",
   "metadata": {},
   "outputs": [
    {
     "data": {
      "text/plain": [
       "-0.0"
      ]
     },
     "execution_count": 109,
     "metadata": {},
     "output_type": "execute_result"
    }
   ],
   "source": [
    "ally.max()"
   ]
  },
  {
   "cell_type": "code",
   "execution_count": null,
   "id": "e67ef261-5b90-46af-a574-94ff675cc588",
   "metadata": {},
   "outputs": [
    {
     "data": {
      "text/plain": [
       "7.0"
      ]
     },
     "execution_count": 110,
     "metadata": {},
     "output_type": "execute_result"
    }
   ],
   "source": [
    "allz.max()"
   ]
  },
  {
   "cell_type": "code",
   "execution_count": null,
   "id": "9585a83c-4a3f-4c0d-82c1-0966fea1c5c0",
   "metadata": {},
   "outputs": [
    {
     "data": {
      "text/plain": [
       "0.0"
      ]
     },
     "execution_count": 111,
     "metadata": {},
     "output_type": "execute_result"
    }
   ],
   "source": [
    "allz.min()"
   ]
  },
  {
   "cell_type": "code",
   "execution_count": null,
   "id": "2fec11ee-a96f-416e-8253-4505523a4f3e",
   "metadata": {},
   "outputs": [],
   "source": []
  },
  {
   "cell_type": "code",
   "execution_count": null,
   "id": "2c37b2f4-72cb-4aa4-97ff-ef9bc639861b",
   "metadata": {},
   "outputs": [],
   "source": []
  },
  {
   "cell_type": "code",
   "execution_count": null,
   "id": "e7e6d620-7715-4453-89c9-df26d0ca0bad",
   "metadata": {},
   "outputs": [],
   "source": []
  },
  {
   "cell_type": "code",
   "execution_count": null,
   "id": "259d1c2a-cd11-468d-8ada-74e0047501a6",
   "metadata": {},
   "outputs": [],
   "source": []
  },
  {
   "cell_type": "code",
   "execution_count": null,
   "id": "e2a41d82-d563-4b06-9296-d447209d183e",
   "metadata": {},
   "outputs": [],
   "source": []
  },
  {
   "cell_type": "code",
   "execution_count": null,
   "id": "6a7e5532-d3a6-41ed-952e-edfe84e042aa",
   "metadata": {},
   "outputs": [],
   "source": []
  },
  {
   "cell_type": "code",
   "execution_count": null,
   "id": "152899c8-c2fe-4fae-a1c3-17cbec4a1e67",
   "metadata": {},
   "outputs": [],
   "source": []
  },
  {
   "cell_type": "code",
   "execution_count": null,
   "id": "1299d9ba-4a84-4d2e-8115-7790836c6516",
   "metadata": {},
   "outputs": [],
   "source": []
  },
  {
   "cell_type": "code",
   "execution_count": null,
   "id": "47bf54aa-d186-40cd-8466-4f1fa07d5a84",
   "metadata": {},
   "outputs": [],
   "source": []
  },
  {
   "cell_type": "code",
   "execution_count": null,
   "id": "65365b5a-5342-4e6f-8185-d899519c0ae1",
   "metadata": {},
   "outputs": [],
   "source": []
  },
  {
   "cell_type": "code",
   "execution_count": null,
   "id": "ec2171ea-1794-4113-875e-f1486199d2d9",
   "metadata": {},
   "outputs": [],
   "source": []
  },
  {
   "cell_type": "code",
   "execution_count": null,
   "id": "f7dbdc38-de3b-4ef6-9605-7bcbede2fd9a",
   "metadata": {},
   "outputs": [],
   "source": []
  },
  {
   "cell_type": "code",
   "execution_count": null,
   "id": "e9663ff6-334a-4a62-b7fe-6ea815cdf2af",
   "metadata": {},
   "outputs": [],
   "source": []
  },
  {
   "cell_type": "code",
   "execution_count": null,
   "id": "53a0bf7f-5b63-4437-8b9e-b790c2f864f7",
   "metadata": {},
   "outputs": [],
   "source": []
  },
  {
   "cell_type": "code",
   "execution_count": null,
   "id": "89cc6cfe-e84d-4d26-a100-15f67c197d7b",
   "metadata": {},
   "outputs": [],
   "source": []
  },
  {
   "cell_type": "code",
   "execution_count": null,
   "id": "72cc3db2-a14e-4bb9-a23d-bac6e28da638",
   "metadata": {},
   "outputs": [],
   "source": []
  },
  {
   "cell_type": "code",
   "execution_count": null,
   "id": "d2b03a8b-1edd-497e-adc8-23ed612de7e7",
   "metadata": {},
   "outputs": [],
   "source": []
  },
  {
   "cell_type": "code",
   "execution_count": null,
   "id": "5596b9db-68cc-4af5-a98e-6c6cb0d0c720",
   "metadata": {},
   "outputs": [],
   "source": []
  },
  {
   "cell_type": "code",
   "execution_count": null,
   "id": "8c9762e6-d649-41b1-9381-1c9847723514",
   "metadata": {},
   "outputs": [],
   "source": []
  },
  {
   "cell_type": "code",
   "execution_count": null,
   "id": "a82c99ab-cced-4253-bb0c-e584aa79ee52",
   "metadata": {},
   "outputs": [],
   "source": []
  },
  {
   "cell_type": "code",
   "execution_count": null,
   "id": "193f454a-2763-4011-949f-c5ccbc87e822",
   "metadata": {},
   "outputs": [],
   "source": []
  },
  {
   "cell_type": "code",
   "execution_count": null,
   "id": "bd15e612-b596-4977-b2ab-6ba4551033b6",
   "metadata": {},
   "outputs": [],
   "source": []
  },
  {
   "cell_type": "code",
   "execution_count": null,
   "id": "68071207-7dce-4455-9a42-07dc69e718bf",
   "metadata": {},
   "outputs": [],
   "source": []
  },
  {
   "cell_type": "code",
   "execution_count": null,
   "id": "f771f093-b25c-4c59-b489-5ae4cbae56e6",
   "metadata": {},
   "outputs": [],
   "source": []
  },
  {
   "cell_type": "code",
   "execution_count": null,
   "id": "7f2bc9ee-1482-49d2-b49c-8b729a234480",
   "metadata": {},
   "outputs": [],
   "source": []
  },
  {
   "cell_type": "code",
   "execution_count": null,
   "id": "36d53ca5-7759-45b5-8793-8913b189609e",
   "metadata": {},
   "outputs": [],
   "source": []
  },
  {
   "cell_type": "code",
   "execution_count": null,
   "id": "58780335-5fd6-4274-b78a-9019d2c0400d",
   "metadata": {},
   "outputs": [],
   "source": []
  },
  {
   "cell_type": "code",
   "execution_count": null,
   "id": "3b690a46-fe73-450e-a5af-3eb3254d903c",
   "metadata": {},
   "outputs": [],
   "source": []
  },
  {
   "cell_type": "code",
   "execution_count": null,
   "id": "98969333-91cd-41c5-bdbd-da81f6589f74",
   "metadata": {},
   "outputs": [],
   "source": []
  },
  {
   "cell_type": "code",
   "execution_count": null,
   "id": "a7e6417d-8435-4617-b676-d0827bb2ee18",
   "metadata": {},
   "outputs": [],
   "source": []
  }
 ],
 "metadata": {
  "kernelspec": {
   "display_name": "clone1",
   "language": "python",
   "name": "python3"
  },
  "language_info": {
   "codemirror_mode": {
    "name": "ipython",
    "version": 3
   },
   "file_extension": ".py",
   "mimetype": "text/x-python",
   "name": "python",
   "nbconvert_exporter": "python",
   "pygments_lexer": "ipython3",
   "version": "3.9.16"
  },
  "vscode": {
   "interpreter": {
    "hash": "972d1357bff7ace1920d1c012b62317b95692d01a34ce6b1d8625430191723f9"
   }
  }
 },
 "nbformat": 4,
 "nbformat_minor": 5
}
