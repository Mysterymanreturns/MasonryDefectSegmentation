{
 "cells": [
  {
   "cell_type": "code",
   "execution_count": 1,
   "id": "8fdaa74e-b9a0-4a5c-a790-ef15b7da3f06",
   "metadata": {},
   "outputs": [
    {
     "name": "stdout",
     "output_type": "stream",
     "text": [
      "1\n"
     ]
    },
    {
     "name": "stderr",
     "output_type": "stream",
     "text": [
      "C:\\Users\\eejmws\\AppData\\Local\\Temp\\ipykernel_28268\\4211497147.py:227: UserWarning: Attempting to set identical low and high xlims makes transformation singular; automatically expanding.\n",
      "  plt.imshow(spalledwall[locx+overlapxstart:locx+overlapxstart+defectlength,locy+overlapystart:locy+defectheight+overlapystart])\n"
     ]
    },
    {
     "data": {
      "text/plain": [
       "<matplotlib.image.AxesImage at 0x1e7116a3a90>"
      ]
     },
     "execution_count": 1,
     "metadata": {},
     "output_type": "execute_result"
    },
    {
     "data": {
      "image/png": "[encoded data removed]",
      "text/plain": [
       "<Figure size 640x480 with 1 Axes>"
      ]
     },
     "metadata": {},
     "output_type": "display_data"
    }
   ],
   "source": [
    "\n",
    "\n",
    "from PIL import Image\n",
    "import matplotlib.pyplot as plt\n",
    "from matplotlib import cm\n",
    "from matplotlib.ticker import LinearLocator\n",
    "import numpy as np\n",
    "import albumentations as A\n",
    "from skimage.io import imread\n",
    "from scipy.special import binom\n",
    "from skimage import feature\n",
    "from skimage import segmentation\n",
    "from skimage import morphology\n",
    "from scipy import ndimage\n",
    "import cv2 as cv\n",
    "from scipy import ndimage\n",
    "from skimage import segmentation\n",
    "import random\n",
    "\n",
    "testim = Image.open(\"test.tiff\")\n",
    "wallim = Image.open(\"wall.tiff\")\n",
    "#maskim = Image.open(\"wall.tiff\")\n",
    "wall = np.array(wallim)\n",
    "#mask = np.array(maskim)\n",
    "mask = wall>0.9\n",
    "test = np.array(testim)\n",
    "damagelevel = 0.5\n",
    "plt.imshow(wall)\n",
    "\n",
    "bernstein = lambda n, k, t: binom(n,k)* t**k * (1.-t)**(n-k)\n",
    "\n",
    "def bezier(points, num=200):\n",
    "    N = len(points)\n",
    "    t = np.linspace(0, 1, num=num)\n",
    "    curve = np.zeros((num, 2))\n",
    "    for i in range(N):\n",
    "        curve += np.outer(bernstein(N - 1, i, t), points[i])\n",
    "    return curve\n",
    "\n",
    "class Segment():\n",
    "    def __init__(self, p1, p2, angle1, angle2, **kw):\n",
    "        self.p1 = p1; self.p2 = p2\n",
    "        self.angle1 = angle1; self.angle2 = angle2\n",
    "        self.numpoints = kw.get(\"numpoints\", 100)\n",
    "        r = kw.get(\"r\", 0.3)\n",
    "        d = np.sqrt(np.sum((self.p2-self.p1)**2))\n",
    "        self.r = r*d\n",
    "        self.p = np.zeros((4,2))\n",
    "        self.p[0,:] = self.p1[:]\n",
    "        self.p[3,:] = self.p2[:]\n",
    "        self.calc_intermediate_points(self.r)\n",
    "\n",
    "    def calc_intermediate_points(self,r):\n",
    "        self.p[1,:] = self.p1 + np.array([self.r*np.cos(self.angle1),\n",
    "                                    self.r*np.sin(self.angle1)])\n",
    "        self.p[2,:] = self.p2 + np.array([self.r*np.cos(self.angle2+np.pi),\n",
    "                                    self.r*np.sin(self.angle2+np.pi)])\n",
    "        self.curve = bezier(self.p,self.numpoints)\n",
    "\n",
    "\n",
    "def get_curve(points, **kw):\n",
    "    segments = []\n",
    "    for i in range(len(points)-1):\n",
    "        seg = Segment(points[i,:2], points[i+1,:2], points[i,2],points[i+1,2],**kw)\n",
    "        segments.append(seg)\n",
    "    curve = np.concatenate([s.curve for s in segments])\n",
    "    return segments, curve\n",
    "\n",
    "def ccw_sort(p):\n",
    "    d = p-np.mean(p,axis=0)\n",
    "    s = np.arctan2(d[:,0], d[:,1])\n",
    "    return p[np.argsort(s),:]\n",
    "\n",
    "def get_bezier_curve(a, rad=0.2, edgy=0):\n",
    "    \"\"\" given an array of points *a*, create a curve through\n",
    "    those points. \n",
    "    *rad* is a number between 0 and 1 to steer the distance of\n",
    "          control points.\n",
    "    *edgy* is a parameter which controls how \"edgy\" the curve is,\n",
    "           edgy=0 is smoothest.\"\"\"\n",
    "    p = np.arctan(edgy)/np.pi+.5\n",
    "    a = ccw_sort(a)\n",
    "    a = np.append(a, np.atleast_2d(a[0,:]), axis=0)\n",
    "    d = np.diff(a, axis=0)\n",
    "    ang = np.arctan2(d[:,1],d[:,0])\n",
    "    f = lambda ang : (ang>=0)*ang + (ang<0)*(ang+2*np.pi)\n",
    "    ang = f(ang)\n",
    "    ang1 = ang\n",
    "    ang2 = np.roll(ang,1)\n",
    "    ang = p*ang1 + (1-p)*ang2 + (np.abs(ang2-ang1) > np.pi )*np.pi\n",
    "    ang = np.append(ang, [ang[0]])\n",
    "    a = np.append(a, np.atleast_2d(ang).T, axis=1)\n",
    "    s, c = get_curve(a, r=rad, method=\"var\")\n",
    "    x,y = c.T\n",
    "    return x,y, a\n",
    "\n",
    "\n",
    "def get_random_points(n=5, scale=0.8, mindst=None, rec=0):\n",
    "    \"\"\" create n random points in the unit square, which are *mindst*\n",
    "    apart, then scale them.\"\"\"\n",
    "    mindst = mindst or .7/n\n",
    "    a = np.random.rand(n,2)\n",
    "    d = np.sqrt(np.sum(np.diff(ccw_sort(a), axis=0), axis=1)**2)\n",
    "    if np.all(d >= mindst) or rec>=200:\n",
    "        return a*scale\n",
    "    else:\n",
    "        return get_random_points(n=n, scale=scale, mindst=mindst, rec=rec+1)\n",
    "\n",
    "    \n",
    "    \n",
    "rad = random.random()\n",
    "edgy = random.random()*10\n",
    "npoints = random.randint(3,15)\n",
    "for c in np.array([[0,0]]):\n",
    "\n",
    "    a = get_random_points(npoints, scale=1) + c\n",
    "    x,y, _ = get_bezier_curve(a,rad=rad, edgy=edgy)\n",
    "\n",
    "\n",
    "x=(x*100).astype(int)\n",
    "y=(y*100).astype(int)\n",
    "# plt.plot(x,y)\n",
    "\n",
    "spall = np.zeros((105,105))\n",
    "\n",
    "for n in range(len(x)):\n",
    "  a = min(x[n]+3,102)\n",
    "  b = min(y[n]+3,102)\n",
    "  spall[a,b]=1\n",
    "\n",
    "spall=spall.astype(int)\n",
    "cv.floodFill(spall, None, (0,0),1)\n",
    "spall=1-spall\n",
    "spallD = ndimage.distance_transform_edt(spall)    \n",
    "plt    \n",
    "    \n",
    "    \n",
    "    \n",
    "    "
   ]
  },
  {
   "cell_type": "code",
   "execution_count": 2,
   "id": "ff46422f-8b92-4fb2-8740-977de8ccae77",
   "metadata": {},
   "outputs": [
    {
     "data": {
      "text/plain": [
       "<matplotlib.image.AxesImage at 0x1e7116bd790>"
      ]
     },
     "execution_count": 2,
     "metadata": {},
     "output_type": "execute_result"
    },
    {
     "data": {
      "image/png": "[encoded data removed]",
      "text/plain": [
       "<Figure size 640x480 with 1 Axes>"
      ]
     },
     "metadata": {},
     "output_type": "display_data"
    }
   ],
   "source": [
    "plt.imshow(spallC)"
   ]
  },
  {
   "cell_type": "code",
   "execution_count": 3,
   "id": "2bf641c8-fe1e-4feb-8628-05c56702a791",
   "metadata": {},
   "outputs": [
    {
     "data": {
      "text/plain": [
       "<matplotlib.image.AxesImage at 0x1e71e70f880>"
      ]
     },
     "execution_count": 3,
     "metadata": {},
     "output_type": "execute_result"
    },
    {
     "data": {
      "image/png": "[encoded data removed]",
      "text/plain": [
       "<Figure size 640x480 with 1 Axes>"
      ]
     },
     "metadata": {},
     "output_type": "display_data"
    }
   ],
   "source": [
    "plt.imshow(spallflatC)"
   ]
  },
  {
   "cell_type": "code",
   "execution_count": 4,
   "id": "70fb6bf2-df5a-4a01-8285-cd51307f96c5",
   "metadata": {},
   "outputs": [
    {
     "data": {
      "text/plain": [
       "<matplotlib.image.AxesImage at 0x1e71e623250>"
      ]
     },
     "execution_count": 4,
     "metadata": {},
     "output_type": "execute_result"
    },
    {
     "data": {
      "image/png": "[encoded data removed]",
      "text/plain": [
       "<Figure size 640x480 with 1 Axes>"
      ]
     },
     "metadata": {},
     "output_type": "display_data"
    }
   ],
   "source": [
    "plt.imshow(spallflatb)\n"
   ]
  },
  {
   "cell_type": "code",
   "execution_count": 5,
   "id": "2dd22133-7f12-45f3-b138-954166dd9260",
   "metadata": {},
   "outputs": [
    {
     "data": {
      "text/plain": [
       "0"
      ]
     },
     "execution_count": 5,
     "metadata": {},
     "output_type": "execute_result"
    }
   ],
   "source": [
    "spallflatb.max()"
   ]
  },
  {
   "cell_type": "code",
   "execution_count": 6,
   "id": "3ec639b7-635c-46c7-b5d5-0f9258d77c78",
   "metadata": {},
   "outputs": [
    {
     "data": {
      "text/plain": [
       "0"
      ]
     },
     "execution_count": 6,
     "metadata": {},
     "output_type": "execute_result"
    }
   ],
   "source": [
    "spallflatC.max()"
   ]
  },
  {
   "cell_type": "code",
   "execution_count": 7,
   "id": "152fdd54-e501-4e29-ae39-141c01e6d901",
   "metadata": {},
   "outputs": [
    {
     "data": {
      "text/plain": [
       "array([[0., 0., 0., ..., 0., 0., 0.],\n",
       "       [0., 0., 0., ..., 0., 0., 0.],\n",
       "       [0., 0., 0., ..., 0., 0., 0.],\n",
       "       ...,\n",
       "       [0., 0., 0., ..., 0., 0., 0.],\n",
       "       [0., 0., 0., ..., 0., 0., 0.],\n",
       "       [0., 0., 0., ..., 0., 0., 0.]])"
      ]
     },
     "execution_count": 7,
     "metadata": {},
     "output_type": "execute_result"
    }
   ],
   "source": [
    "spallflat"
   ]
  },
  {
   "cell_type": "code",
   "execution_count": 8,
   "id": "a106b879-e283-42b7-ac3b-3e64a2b161a7",
   "metadata": {},
   "outputs": [
    {
     "data": {
      "text/plain": [
       "33"
      ]
     },
     "execution_count": 8,
     "metadata": {},
     "output_type": "execute_result"
    }
   ],
   "source": [
    "spallflatsize"
   ]
  },
  {
   "cell_type": "code",
   "execution_count": 9,
   "id": "5462886c-5688-487b-947d-62729fb23fae",
   "metadata": {},
   "outputs": [
    {
     "data": {
      "text/plain": [
       "13"
      ]
     },
     "execution_count": 9,
     "metadata": {},
     "output_type": "execute_result"
    }
   ],
   "source": [
    "flatlocy"
   ]
  },
  {
   "cell_type": "code",
   "execution_count": 10,
   "id": "2c05b72e-de32-42fa-b09c-cb78865803d9",
   "metadata": {},
   "outputs": [
    {
     "data": {
      "text/plain": [
       "18"
      ]
     },
     "execution_count": 10,
     "metadata": {},
     "output_type": "execute_result"
    }
   ],
   "source": [
    "flatlocx"
   ]
  },
  {
   "cell_type": "code",
   "execution_count": 12,
   "id": "c0325623-6caa-4469-92bf-b215a6e314b1",
   "metadata": {},
   "outputs": [
    {
     "data": {
      "text/plain": [
       "array([[1.        , 0.5379438 , 0.15567206, ..., 0.        , 0.        ,\n",
       "        0.        ],\n",
       "       [1.        , 0.5379438 , 0.15567206, ..., 0.        , 0.        ,\n",
       "        0.        ],\n",
       "       [1.        , 0.5379438 , 0.15567206, ..., 0.        , 0.        ,\n",
       "        0.        ],\n",
       "       ...,\n",
       "       [1.        , 0.5379438 , 0.15567206, ..., 0.        , 0.        ,\n",
       "        0.        ],\n",
       "       [1.        , 0.5379438 , 0.15567206, ..., 0.        , 0.        ,\n",
       "        0.        ],\n",
       "       [1.        , 0.5379438 , 0.15567206, ..., 0.        , 0.        ,\n",
       "        0.        ]], dtype=float32)"
      ]
     },
     "execution_count": 12,
     "metadata": {},
     "output_type": "execute_result"
    }
   ],
   "source": [
    "spalledwall"
   ]
  },
  {
   "cell_type": "code",
   "execution_count": null,
   "id": "32ea1ded-079a-4569-b723-957f26848d2b",
   "metadata": {},
   "outputs": [],
   "source": []
  }
 ],
 "metadata": {
  "kernelspec": {
   "display_name": "Python 3 (ipykernel)",
   "language": "python",
   "name": "python3"
  },
  "language_info": {
   "codemirror_mode": {
    "name": "ipython",
    "version": 3
   },
   "file_extension": ".py",
   "mimetype": "text/x-python",
   "name": "python",
   "nbconvert_exporter": "python",
   "pygments_lexer": "ipython3",
   "version": "3.9.16"
  }
 },
 "nbformat": 4,
 "nbformat_minor": 5
}
