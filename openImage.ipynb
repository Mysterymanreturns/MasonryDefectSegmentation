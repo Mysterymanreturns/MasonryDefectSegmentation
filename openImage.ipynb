{
 "cells": [
  {
   "cell_type": "code",
   "execution_count": null,
   "id": "467ef691-5139-45d1-b7d1-30a2f32b0329",
   "metadata": {},
   "outputs": [],
   "source": [
    "import numpy as np\n",
    "from PIL import Image\n",
    "import matplotlib.pyplot as plt\n",
    "#pic = Image.open(\"../data/loggingtest1/testsynth.tiff\")\n",
    "pic = Image.open(\"../data/wall1/raster.tiff\")#/croppedimages/2.tiff\")\n",
    "picnp = np.array(pic)\n",
    "plt.imshow(picnp)"
   ]
  },
  {
   "cell_type": "code",
   "execution_count": null,
   "id": "9ce7e31d",
   "metadata": {},
   "outputs": [],
   "source": [
    "pic = Image.open(\"../data/wall2/croppedimages/15.tiff\")\n",
    "picnp = np.array(pic)\n",
    "plt.imshow(picnp)"
   ]
  },
  {
   "cell_type": "code",
   "execution_count": null,
   "id": "a66030aa",
   "metadata": {},
   "outputs": [],
   "source": [
    "pic = Image.open(\"../data/wall1/croppedimages/4.tiff\")\n",
    "picnp = np.array(pic)\n",
    "plt.imshow(picnp)"
   ]
  },
  {
   "cell_type": "code",
   "execution_count": null,
   "id": "7252a848",
   "metadata": {},
   "outputs": [],
   "source": []
  },
  {
   "cell_type": "code",
   "execution_count": null,
   "id": "74254d72",
   "metadata": {},
   "outputs": [],
   "source": [
    "import numpy as np\n",
    "from PIL import Image\n",
    "import matplotlib.pyplot as plt\n",
    "#pic = Image.open(\"../data/loggingtest1/testsynth.tiff\")\n",
    "pic = Image.open(\"../data/wall3/croppedimages/102.tiff\")\n",
    "picnp = np.array(pic)\n",
    "plt.imshow(picnp)"
   ]
  },
  {
   "cell_type": "code",
   "execution_count": null,
   "id": "dc9b2204",
   "metadata": {},
   "outputs": [],
   "source": [
    "from Blockfit import blockfit \n",
    "from PIL import Image\n",
    "picoutnp = np.array(Image.open(\"../data/test4/results/picoutdepthUnetmobilenet_v2default.tiff\"))\n",
    "picoutfit = blockfit(picoutnp)\n"
   ]
  },
  {
   "cell_type": "code",
   "execution_count": null,
   "id": "9494d89a-786a-45d0-adbe-8330a194e875",
   "metadata": {},
   "outputs": [],
   "source": [
    "plt.imshow(picoutfit)"
   ]
  },
  {
   "cell_type": "code",
   "execution_count": null,
   "id": "98080447",
   "metadata": {},
   "outputs": [],
   "source": [
    "import numpy as np\n",
    "import os\n",
    "import albumentations as A\n",
    "import cv2 as cv\n",
    "from PIL import Image\n",
    "import matplotlib.pyplot as plt\n",
    "import os\n",
    "\n",
    "x = picnp\n",
    "normalisationparam = 4        \n",
    "x = ((x-x.mean())/(normalisationparam*np.std(x)))+0.5\n",
    "x[x<0] = 0\n",
    "x[x>1] = 1\n",
    "x = x#/2\n",
    "# (x-x.mean())/np.std(x)    \n",
    "# maxinput = x.max()\n",
    "# x = x/maxinput\n",
    "plt.imshow(x)\n",
    "picoutfit[1,:]"
   ]
  },
  {
   "cell_type": "code",
   "execution_count": null,
   "id": "903ab998-12b0-410c-b06e-0974e2e660d9",
   "metadata": {},
   "outputs": [],
   "source": [
    "x.max()"
   ]
  },
  {
   "cell_type": "code",
   "execution_count": null,
   "id": "70fa92ce-d0f9-469a-878d-308c688cbca4",
   "metadata": {},
   "outputs": [],
   "source": [
    "x.min()"
   ]
  },
  {
   "cell_type": "code",
   "execution_count": null,
   "id": "0cce6bea-95f6-4996-ad17-55ac65eff36e",
   "metadata": {},
   "outputs": [],
   "source": [
    "transparams = [\n",
    "     A.GridDistortion (num_steps=5, p=0.8),\n",
    "     A.RandomSizedCrop([64,1024], 256, 256, w2h_ratio = 1, p=1.0),\n",
    "     A.HorizontalFlip(p=0.5),\n",
    "     A.VerticalFlip(p=0.5),\n",
    "     A.RandomBrightnessContrast(p=0.2, brightness_limit =0.5, contrast_limit = 0.5),\n",
    "     A.RandomBrightnessContrast(p=0.7, brightness_limit =0.2, contrast_limit = 0.2),\n",
    "     A.GaussNoise(p=0.7, var_limit=[0,0.15]),\n",
    "     A.ElasticTransform(p=0.8, alpha=500, sigma=40, alpha_affine=8),\n",
    "\n",
    "]\n",
    "transparamsv = [\n",
    "    A.RandomCrop (256, 256, always_apply=True, p=1.0),\n",
    "   # A.RandomSizedCrop(min_max_height=(64, 512), height=512, width=512, w2h_ratio=1.0, interpolation=1, always_apply=False, p=0.75),\n",
    "    A.HorizontalFlip(p=0.5),\n",
    "    A.VerticalFlip(p=0.5),\n",
    "   # A.RandomBrightnessContrast(p=0.7),\n",
    "   # A.GaussNoise(always_apply=False, p=0.3, var_limit=(5, 5)),\n",
    "  #  A.RandomContrast(always_apply=False, p=0.3, limit=(-0.6, 0.6)),\n",
    "   # A.RandomRotate90(always_apply=False, p=0.75)\n",
    "   # A.CLAHE(p=1),\n",
    "\n",
    "]\n",
    "\n",
    "\n",
    "# im = Image.open(\"../data/test.tiff\")\n",
    "# imnp = np.array(im)\n",
    "# ma = Image.open(\"../data/testmask.tiff\")\n",
    "# manp = np.array(ma)\n",
    "transform1 = A.Compose(transparams)\n",
    "transformed1 = transform1(image=x, mask=x)\n",
    "xout = transformed1['image']\n",
    "#y = transformed1['mask']\n",
    "\n",
    "\n"
   ]
  },
  {
   "cell_type": "code",
   "execution_count": null,
   "id": "299d2a8f-d02f-46be-bf4b-629f0382b994",
   "metadata": {},
   "outputs": [],
   "source": [
    "#xnp = np.array(x)\n",
    "transform1 = A.Compose(transparams)\n",
    "transformed1 = transform1(image=x, mask=x)\n",
    "xout = transformed1['image']\n",
    "plt.imshow(xout)"
   ]
  },
  {
   "cell_type": "code",
   "execution_count": null,
   "id": "31da7345-855b-4f64-af48-7fa164137e3f",
   "metadata": {},
   "outputs": [],
   "source": [
    "xout.min()"
   ]
  },
  {
   "cell_type": "code",
   "execution_count": null,
   "id": "70e4676f-881f-4f9a-a964-c2e112959ecd",
   "metadata": {},
   "outputs": [],
   "source": [
    "xout.mean()"
   ]
  },
  {
   "cell_type": "code",
   "execution_count": null,
   "id": "326f3003-3466-4e01-a260-61f0797d8f70",
   "metadata": {},
   "outputs": [],
   "source": [
    "xout.max()"
   ]
  },
  {
   "cell_type": "code",
   "execution_count": null,
   "id": "56975e92-1419-4954-b845-fee4ea12df84",
   "metadata": {},
   "outputs": [],
   "source": []
  },
  {
   "cell_type": "code",
   "execution_count": null,
   "id": "cbfa5b14-a065-470f-85ab-bd35f9ceed47",
   "metadata": {},
   "outputs": [],
   "source": [
    "x.std()"
   ]
  },
  {
   "cell_type": "code",
   "execution_count": null,
   "id": "42625838-faa6-4fae-a8de-5c0047b00974",
   "metadata": {},
   "outputs": [],
   "source": [
    "sdfsdfsd"
   ]
  },
  {
   "cell_type": "code",
   "execution_count": null,
   "id": "6a49fcf9-a83a-428c-b2da-a1b017742176",
   "metadata": {},
   "outputs": [],
   "source": []
  },
  {
   "cell_type": "code",
   "execution_count": null,
   "id": "be7dc3ef-7a06-45b3-9952-02d8dde5c3e3",
   "metadata": {},
   "outputs": [],
   "source": []
  },
  {
   "cell_type": "code",
   "execution_count": null,
   "id": "e1eacac2-fd75-40db-94ee-7430123d0661",
   "metadata": {},
   "outputs": [],
   "source": []
  },
  {
   "cell_type": "code",
   "execution_count": null,
   "id": "22265169-ba67-46d6-b252-e382f6fbd77d",
   "metadata": {},
   "outputs": [],
   "source": [
    "# pic = Image.open(test+testimage)\n",
    "dim = 256\n",
    "pic1 = pic.copy()\n",
    "pic2 = pic.copy()\n",
    "pic3 = pic.copy()\n",
    "pic4 = pic.copy()\n",
    "# dim = 512\n",
    "w = pic.size[0]\n",
    "nx = int(w/dim)\n",
    "h = pic.size[1]\n",
    "ny = int(h/dim)\n",
    "i = 0\n",
    "\n",
    "picpastenp1 = np.zeros((w,h))\n",
    "picpaste1 = Image.new(mode = 'F',size=(w,h)) \n",
    "picpaste2 = Image.new(mode = 'F',size=(w,h))\n",
    "picpaste3 = Image.new(mode = 'F',size=(w,h))\n",
    "co_ords = np.zeros((2, nx*ny))\n",
    "\n",
    "\n",
    "size = 256\n",
    "\n",
    "if nx == w/dim:\n",
    "    nxend = nx\n",
    "else:\n",
    "    nxend = nx+1\n",
    "    \n",
    "if ny == h/dim:\n",
    "    nyend = ny\n",
    "else:\n",
    "    nyend = ny+1\n",
    "\n",
    "for x in range(0, nxend):\n",
    "    print(x)\n",
    "    for y in range(0,nyend):\n",
    "      print(y)\n",
    "      left = int(x*dim)\n",
    "      bottom = int(y*dim)\n",
    "      right =int(dim*(1+x))\n",
    "      top =int(dim*(1+y))\n",
    "      box = (left,bottom,right,top)\n",
    "      region = pic.crop(box)\n",
    "\n",
    "    \n",
    "      if left< 0:\n",
    "\n",
    "        overlapleft = 0 - left\n",
    "        end = max(dim,(2*overlapleft))\n",
    "        copy = region.crop((overlapleft,0,end, dim))\n",
    "        width = copy.size[0]\n",
    "        mirrored = copy.transpose(0)\n",
    "        noverlap = int(overlapleft/width)\n",
    "        for a in range(1, noverlap+1):\n",
    "            region.paste(mirrored,(end-width*(a+1),0,end-width*a,dim) )\n",
    "\n",
    "\n",
    "      if right> w:\n",
    "\n",
    "\n",
    "        overlapright = right - w\n",
    "        start = max(0,dim-(2*overlapright))\n",
    "        copy = region.crop((start,0,(dim-overlapright), dim))\n",
    "        width = copy.size[0]\n",
    "        mirrored = copy.transpose(0)\n",
    "        noverlap = int(overlapright/width)\n",
    "        for a in range(1, noverlap+1):\n",
    "            region.paste(mirrored,(start+width*a,0,start+width*(1+a),dim) )\n",
    "\n",
    "\n",
    "\n",
    "      if bottom< 0:\n",
    "\n",
    "        overlapbottom = 0 - bottom\n",
    "        end = max(dim,(2*overlapbottom))\n",
    "        copy = region.crop((0,overlapbottom,dim,end))\n",
    "        height = copy.size[1]\n",
    "        mirrored = copy.transpose(1)\n",
    "        noverlap = int(overlapbottom/height)\n",
    "        for a in range(1, noverlap+1):\n",
    "            region.paste(mirrored,(0,end-height*(a+1),dim,end-height*a) )\n",
    "\n",
    "      if top> h:\n",
    "\n",
    "\n",
    "        overlaptop = top - h\n",
    "        start = max(0,dim-(2*overlaptop))\n",
    "        copy = region.crop((0,start,dim,(dim-overlaptop)))\n",
    "        height = copy.size[1]\n",
    "        mirrored = copy.transpose(1)\n",
    "        noverlap = int(overlaptop/height)\n",
    "        for a in range(1, noverlap+1):\n",
    "            region.paste(mirrored,(0,start+height*a,dim,start+height*(1+a)) )\n"
   ]
  },
  {
   "cell_type": "code",
   "execution_count": null,
   "id": "413e6926-ed03-4636-b2c8-a012fb9654d7",
   "metadata": {},
   "outputs": [],
   "source": [
    "height"
   ]
  },
  {
   "cell_type": "code",
   "execution_count": null,
   "id": "6055afe8-a360-4961-a2bf-45b52e6a92de",
   "metadata": {},
   "outputs": [],
   "source": [
    "overlaptop"
   ]
  },
  {
   "cell_type": "code",
   "execution_count": null,
   "id": "380c5bbe-b5fe-43af-ab3e-f3065fce8f1f",
   "metadata": {},
   "outputs": [],
   "source": [
    "top"
   ]
  },
  {
   "cell_type": "code",
   "execution_count": null,
   "id": "f5c3db06-d7b9-4124-980e-c29a73bf2419",
   "metadata": {},
   "outputs": [],
   "source": [
    "h"
   ]
  },
  {
   "cell_type": "code",
   "execution_count": null,
   "id": "07a2a206-7aab-4e9c-afce-0ce44a6cda8b",
   "metadata": {},
   "outputs": [],
   "source": []
  }
 ],
 "metadata": {
  "kernelspec": {
   "display_name": "clone1",
   "language": "python",
   "name": "python3"
  },
  "language_info": {
   "codemirror_mode": {
    "name": "ipython",
    "version": 3
   },
   "file_extension": ".py",
   "mimetype": "text/x-python",
   "name": "python",
   "nbconvert_exporter": "python",
   "pygments_lexer": "ipython3",
   "version": "3.9.16"
  },
  "vscode": {
   "interpreter": {
    "hash": "972d1357bff7ace1920d1c012b62317b95692d01a34ce6b1d8625430191723f9"
   }
  }
 },
 "nbformat": 4,
 "nbformat_minor": 5
}
