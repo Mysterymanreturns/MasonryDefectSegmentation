{
 "cells": [
  {
   "cell_type": "code",
   "execution_count": 1,
   "metadata": {},
   "outputs": [],
   "source": [
    "# INPUTS\n",
    "# fileloc = location of point cloud\n",
    "# saveloc = folder for outputs\n",
    "# mask = denotes whether file is a mask image. mask = 1 skips rasterisation step and resizes to match image dimensions.\n",
    "# res = multiplier on resolution of rasterised point cloud imagedimension = defaultdimension*res\n",
    "# dim = if given, resulting image is cropped into dimxdim images and put into relevant mask or image folder ready for network training. \n",
    "\n",
    "# INPUT FILES\n",
    "# if mask = 0, pointcloud or .tiff format image at location: fileloc\n",
    "# if mask = 1, mask at location: saveloc+\"mask.tiff\" \n",
    "# if mask = 1, image at location: saveloc+ \"raster.tiff\"\n",
    "\n",
    "# OUTPUTS\n",
    "# noim = number of images created\n",
    "\n",
    "# OUTPUT FILES\n",
    "# if mask = 0 and input is point cloud, rastered image at location: saveloc+ \"raster.tiff\"\n",
    "# if mask = 0 and input is an image, rastered image at location: saveloc+ \"raster.tiff\"\n",
    "# if mask = 1, resized mask at location: saveloc+\"mask.tiff\"\n",
    "# if dim exists and mask = 0, new folder (if not exists): 'croppedimages/'\n",
    "# if dim exists and mask = 1, new folder (if not exists): 'croppedmasks/'\n",
    "# if dim exists and mask = 0, numbered image crops of size dimxdim at location: saveloc+croppedimages/+ str(i) +\".tiff\"\n",
    "# if dim exists and mask = 1, numbered mask crops of size dimxdim at location: saveloc+croppedmasks/+ str(i) +\".tiff\"\n",
    "\n",
    "\n",
    "#OUTPUT FILES\n",
    "\n",
    "#def raster(fileloc,saveloc,mask = 0,res = 1, dim = None):\n",
    "\n",
    "\n",
    "from PIL import Image, ImageOps\n",
    "\n",
    "import os\n",
    "import cv2\n",
    "import laspy\n",
    "import numpy as np\n",
    "import torch\n",
    "import matplotlib.pyplot as plt\n",
    "os.chdir(\"../data/imtest/\")\n",
    "\n"
   ]
  },
  {
   "cell_type": "code",
   "execution_count": 2,
   "metadata": {},
   "outputs": [
    {
     "name": "stdout",
     "output_type": "stream",
     "text": [
      "[0]\n"
     ]
    }
   ],
   "source": [
    "fileloc = \"testflatten.las\"\n",
    "las = laspy.read(fileloc)\n",
    "print(np.unique(las.classification)) \n"
   ]
  },
  {
   "cell_type": "code",
   "execution_count": 3,
   "metadata": {},
   "outputs": [
    {
     "name": "stdout",
     "output_type": "stream",
     "text": [
      "X\n",
      "Y\n",
      "Z\n",
      "intensity\n",
      "return_number\n",
      "number_of_returns\n",
      "scan_direction_flag\n",
      "edge_of_flight_line\n",
      "classification\n",
      "synthetic\n",
      "key_point\n",
      "withheld\n",
      "scan_angle_rank\n",
      "user_data\n",
      "point_source_id\n",
      "gps_time\n",
      "red\n",
      "green\n",
      "blue\n"
     ]
    }
   ],
   "source": [
    "for dimension in las.point_format.dimensions:\n",
    "    print(dimension.name)"
   ]
  },
  {
   "cell_type": "code",
   "execution_count": 4,
   "metadata": {},
   "outputs": [
    {
     "data": {
      "text/plain": [
       "array([0.001, 0.001, 0.001])"
      ]
     },
     "execution_count": 4,
     "metadata": {},
     "output_type": "execute_result"
    }
   ],
   "source": [
    "las.header.scale"
   ]
  },
  {
   "cell_type": "code",
   "execution_count": 5,
   "metadata": {},
   "outputs": [
    {
     "data": {
      "text/plain": [
       "array([-4., -1.,  0.])"
      ]
     },
     "execution_count": 5,
     "metadata": {},
     "output_type": "execute_result"
    }
   ],
   "source": [
    "las.header.offset"
   ]
  },
  {
   "cell_type": "code",
   "execution_count": 6,
   "metadata": {},
   "outputs": [],
   "source": [
    "points = np.vstack((las.x, las.y, las.z)).transpose()  "
   ]
  },
  {
   "cell_type": "code",
   "execution_count": 7,
   "metadata": {},
   "outputs": [
    {
     "data": {
      "text/plain": [
       "array([[-3.25 , -0.048,  5.506],\n",
       "       [-3.35 , -0.041,  5.554],\n",
       "       [-3.321, -0.017,  5.884],\n",
       "       ...,\n",
       "       [ 2.98 , -0.006,  1.706],\n",
       "       [ 3.061, -0.022,  1.699],\n",
       "       [ 2.873, -0.471,  1.594]])"
      ]
     },
     "execution_count": 7,
     "metadata": {},
     "output_type": "execute_result"
    }
   ],
   "source": [
    "points"
   ]
  },
  {
   "cell_type": "code",
   "execution_count": 8,
   "metadata": {},
   "outputs": [
    {
     "name": "stdout",
     "output_type": "stream",
     "text": [
      "[0]\n",
      "X\n",
      "Y\n",
      "Z\n",
      "intensity\n",
      "return_number\n",
      "number_of_returns\n",
      "scan_direction_flag\n",
      "edge_of_flight_line\n",
      "classification\n",
      "synthetic\n",
      "key_point\n",
      "withheld\n",
      "scan_angle_rank\n",
      "user_data\n",
      "point_source_id\n",
      "gps_time\n",
      "red\n",
      "green\n",
      "blue\n",
      "number of points = 1112805\n",
      "597 6536 10.948073701842546\n"
     ]
    },
    {
     "ename": "NameError",
     "evalue": "name 'res' is not defined",
     "output_type": "error",
     "traceback": [
      "\u001b[1;31m---------------------------------------------------------------------------\u001b[0m",
      "\u001b[1;31mNameError\u001b[0m                                 Traceback (most recent call last)",
      "Cell \u001b[1;32mIn[8], line 20\u001b[0m\n\u001b[0;32m     18\u001b[0m \u001b[39mprint\u001b[39m(ywidth,xwidth,ratio)\n\u001b[0;32m     19\u001b[0m nx \u001b[39m=\u001b[39m (ratio\u001b[39m*\u001b[39mnop)\u001b[39m*\u001b[39m\u001b[39m*\u001b[39m(\u001b[39m1\u001b[39m\u001b[39m/\u001b[39m\u001b[39m2\u001b[39m)\n\u001b[1;32m---> 20\u001b[0m nx \u001b[39m=\u001b[39m nx\u001b[39m*\u001b[39mres\n\u001b[0;32m     22\u001b[0m nx \u001b[39m=\u001b[39m \u001b[39mint\u001b[39m(nx)\n\u001b[0;32m     23\u001b[0m xbinsize \u001b[39m=\u001b[39m (xmaxv\u001b[39m-\u001b[39mxminv)\u001b[39m/\u001b[39mnx\n",
      "\u001b[1;31mNameError\u001b[0m: name 'res' is not defined"
     ]
    }
   ],
   "source": [
    "\n",
    "print(np.unique(las.classification)) \n",
    "for dimension in las.point_format.dimensions:\n",
    "    print(dimension.name)\n",
    "points = np.vstack((las.X, las.Y, las.Z)).transpose()    \n",
    "nop = len(points[:,0])\n",
    "print('number of points = {}'.format(nop))\n",
    "xmin = np.argmin(points[:,0])\n",
    "xminv= points[xmin,0]\n",
    "xmax = np.argmax(points[:,0])\n",
    "xmaxv= points[xmax,0]\n",
    "ymin = np.argmin(points[:,1])\n",
    "yminv= points[ymin,1]\n",
    "ymax = np.argmax(points[:,1])\n",
    "ymaxv= points[ymax,1]\n",
    "ywidth =ymaxv-yminv\n",
    "xwidth =xmaxv-xminv\n",
    "ratio = xwidth/ywidth\n",
    "print(ywidth,xwidth,ratio)\n",
    "nx = (ratio*nop)**(1/2)\n",
    "nx = nx*res\n",
    "\n",
    "nx = int(nx)\n",
    "xbinsize = (xmaxv-xminv)/nx\n",
    "ybinsize = xbinsize\n",
    "ny = (ymaxv-yminv)/ybinsize\n",
    "ny = int(ny)+1\n",
    "nx = nx+1\n",
    "\n",
    "image = np.zeros((nx,ny))\n",
    "npix = image.shape[0]*image.shape[1]\n",
    "print('number of pixels = {}'.format(npix))\n",
    "print('width in pixels = {}'.format(nx))\n",
    "print('height in pixels = {}'.format(ny))\n",
    "xp = np.floor((points[:,0]-xminv)/xbinsize).astype(int)\n",
    "yp = np.floor((points[:,1]-yminv)/ybinsize).astype(int)\n",
    "zp = points[:,2]\n",
    "image = np.zeros((nx,ny))\n",
    "imagenum = np.zeros((nx,ny))\n",
    "for i in range(len(xp)):\n",
    "    imagenum[xp[i],yp[i]]+=1\n",
    "a = 0\n",
    "for i in range(len(xp)):\n",
    "    a = imagenum[xp[i],yp[i]]\n",
    "    #   if a != 0:\n",
    "    image[xp[i],yp[i]]+=zp[i]/a\n",
    "image = image - image.min()\n",
    "imagenumb = imagenum.astype(bool)\n",
    "imagenumb = 0 -imagenumb\n",
    "plt.imshow(imagenumb)\n",
    "plt.imshow(image)\n",
    "# outputnum2 = Image.fromarray(imagenumb)\n",
    "# outputnum2 = outputnum2.convert(\"L\")\n",
    "#imagenumb2 = np.array(outputnum2)\n",
    "#output = Image.fromarray(image)\n",
    "#image2 = np.array(output)\n",
    "#infilled = cv2.inpaint(image2, imagenum.astype('uint8'), 3, cv2.INPAINT_NS)\n",
    "for a in range(len(imagenum[0,:])):\n",
    "    for b in range(len(imagenum[:,0])):\n",
    "        if imagenum[b,a] == 0:\n",
    "            c = 0\n",
    "            d = 0\n",
    "            E = [-1, 0, 1]\n",
    "            F = [-1, 0, 1]\n",
    "            for e in E:\n",
    "                for f in F:\n",
    "                    try:\n",
    "                        if imagenum[b+e,a+f] != 0:\n",
    "                            d+=image[b+e,a+f]\n",
    "                            c+=1\n",
    "                    except:\n",
    "                        pass\n",
    "            if d !=0:\n",
    "\n",
    "                image[b,a]=d/c\n",
    "\n",
    "#   for a in range(len(imagenum[0,:])-1,0,-1):\n",
    "#       for b in range(len(imagenum[:,0])-1,0,-1):\n",
    "#           if imagenum[b,a] == 0:#\n",
    "#tese\n",
    "#                try:\n",
    "#                    image[b,a]=image[b+1,a]\n",
    "#                except:\n",
    "#                    b   \n",
    "\n",
    "\n",
    "outputf = Image.fromarray(image)\n",
    "print('mean pixel value = {}'.format(image.mean()))\n",
    "outputf.save(saveloc+\"raster.tiff\")\n",
    "#np.save(saveloc+\"raster.tiff\",image)\n",
    "\n",
    "            \n"
   ]
  },
  {
   "cell_type": "code",
   "execution_count": 25,
   "metadata": {},
   "outputs": [
    {
     "name": "stdout",
     "output_type": "stream",
     "text": [
      "0 6000 inf\n"
     ]
    }
   ],
   "source": [
    "print(ywidth,xwidth,ratio)"
   ]
  },
  {
   "cell_type": "code",
   "execution_count": null,
   "metadata": {},
   "outputs": [],
   "source": [
    "elif mask == 1:\n",
    "    image = Image.open(saveloc+\"raster.tiff\")\n",
    "    nx,ny = image.size\n",
    "    outputf = Image.open(fileloc)\n",
    "    outputf = outputf.resize((nx,ny))\n",
    "    outputf.save(saveloc+\"mask.tiff\")\n",
    "elif mask == 0 and \"tiff\" in fileloc:\n",
    "    outputf = Image.open(fileloc)\n",
    "    nx,ny = outputf.size\n",
    "    outputf = outputf.resize((int(nx*res),int(ny*res)))\n",
    "    outputf.save(saveloc+\"raster.tiff\")        \n",
    "noim = 0\n",
    "if dim != None:\n",
    "        if mask == 0:\n",
    "            newpath = r'croppedimages/'\n",
    "        else:\n",
    "            newpath = r'croppedmasks/'\n",
    "        if not os.path.exists(saveloc+newpath):\n",
    "            os.makedirs(saveloc+newpath)\n",
    "        # pic = outputf\n",
    "        if \"tiff\" in fileloc:\n",
    "                nx,ny = outputf.size\n",
    "                outputf = outputf.resize((int(nx*res),int(ny*res)))\n",
    "        #pic = ImageOps.grayscale(pic)\n",
    "        pic = outputf\n",
    "        w = pic.size[0]\n",
    "        nx = int(w/dim)\n",
    "        h = pic.size[1]\n",
    "        ny = int(h/dim)\n",
    "        i = 0\n",
    "        print(\"cropping masks\")\n",
    "        for x in range(0, nx):\n",
    "            for y in range(0, ny):\n",
    "                i = i+1\n",
    "                box = (x*dim, y*dim, dim*(1+x) , dim*(1+y))\n",
    "                region = pic.crop(box)\n",
    "                #region.save(\"test2/croppedimagestargetfullres2/\"+ str(i) +\".png\")\n",
    "                region.save(saveloc+newpath+ str(i) +\".tiff\")\n",
    "                noim +=1"
   ]
  }
 ],
 "metadata": {
  "kernelspec": {
   "display_name": "clone1",
   "language": "python",
   "name": "python3"
  },
  "language_info": {
   "codemirror_mode": {
    "name": "ipython",
    "version": 3
   },
   "file_extension": ".py",
   "mimetype": "text/x-python",
   "name": "python",
   "nbconvert_exporter": "python",
   "pygments_lexer": "ipython3",
   "version": "3.9.16"
  },
  "orig_nbformat": 4,
  "vscode": {
   "interpreter": {
    "hash": "972d1357bff7ace1920d1c012b62317b95692d01a34ce6b1d8625430191723f9"
   }
  }
 },
 "nbformat": 4,
 "nbformat_minor": 2
}
